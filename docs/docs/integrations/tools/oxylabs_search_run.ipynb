{
 "cells": [
  {
   "metadata": {},
   "cell_type": "markdown",
   "source": "# Oxylabs Search Run",
   "id": "3d5f69fd9e33e94b"
  },
  {
   "metadata": {},
   "cell_type": "markdown",
   "source": "## Overview",
   "id": "65142ccb18a6add5"
  },
  {
   "metadata": {},
   "cell_type": "markdown",
   "source": "This notebook goes over how to use the Oxylabs search run component.\n",
   "id": "19976df355f9c461"
  },
  {
   "metadata": {},
   "cell_type": "markdown",
   "source": "### Integration details\n",
   "id": "e5c65c1c2cf0a8a2"
  },
  {
   "metadata": {},
   "cell_type": "markdown",
   "source": [
    "| Class                                                                                                                                                    | Package |\n",
    "|:---------------------------------------------------------------------------------------------------------------------------------------------------------| :--- |\n",
    "| [OxylabsSearchRun](https://python.langchain.com/api_reference/community/tools/langchain_community.tools.oxylabs_search.tool.OxylabsSearchRun.html)       | [langchain-community](https://python.langchain.com/api_reference/community/index.html) |"
   ],
   "id": "515fbf211172fe3d"
  },
  {
   "metadata": {},
   "cell_type": "markdown",
   "source": "### Tool features",
   "id": "31e5c41fc6361d6b"
  },
  {
   "metadata": {},
   "cell_type": "markdown",
   "source": [
    "| [Returns artifact](/docs/how_to/tool_artifacts/) | Pricing         |\n",
    "| :---: | :-----------------------:|\n",
    "| ✅ | x free searches / month |"
   ],
   "id": "76e6d8030199710d"
  },
  {
   "metadata": {},
   "cell_type": "markdown",
   "source": "## Setup",
   "id": "eb59c5f3051be9d4"
  },
  {
   "metadata": {},
   "cell_type": "markdown",
   "source": "The integration lives in the `langchain-community` package. We also need to install the `oxylabs` package.",
   "id": "a824c8c3fb594a7"
  },
  {
   "metadata": {},
   "cell_type": "code",
   "outputs": [],
   "execution_count": null,
   "source": "%pip install -U langchain-community oxylabs",
   "id": "d117e039cc052ce2"
  },
  {
   "metadata": {},
   "cell_type": "markdown",
   "source": "### Credentials",
   "id": "78f0e14db9cfb858"
  },
  {
   "metadata": {},
   "cell_type": "markdown",
   "source": [
    "Set up the proper API keys and environment variables.  \n",
    "Create your API user credentials: Sign up for a free trial or purchase the product\n",
    "in the [Oxylabs dashboard](https://dashboard.oxylabs.io/en/registration)\n",
    "to create your API user credentials (OXYLABS_USERNAME and OXYLABS_PASSWORD)."
   ],
   "id": "b8330dfd5861482e"
  },
  {
   "metadata": {
    "ExecuteTime": {
     "end_time": "2024-11-03T18:18:36.552374Z",
     "start_time": "2024-11-03T18:18:14.775245Z"
    }
   },
   "cell_type": "code",
   "source": [
    "import getpass\n",
    "import os\n",
    "\n",
    "os.environ[\"OXYLABS_USERNAME\"] = getpass.getpass()\n",
    "os.environ[\"OXYLABS_PASSWORD\"] = getpass.getpass()"
   ],
   "id": "474b6eaf6e35efda",
   "outputs": [],
   "execution_count": 2
  },
  {
   "metadata": {},
   "cell_type": "markdown",
   "source": "## Instantiation",
   "id": "ae310f86b113bd78"
  },
  {
   "metadata": {
    "ExecuteTime": {
     "end_time": "2024-11-03T18:18:41.241299Z",
     "start_time": "2024-11-03T18:18:40.635619Z"
    }
   },
   "cell_type": "code",
   "source": [
    "from langchain_community.tools.oxylabs_search import OxylabsSearchRun\n",
    "from langchain_community.utilities import OxylabsSearchAPIWrapper\n",
    "\n",
    "oxylabs_wrapper = OxylabsSearchAPIWrapper()"
   ],
   "id": "69ea8139f6152b48",
   "outputs": [],
   "execution_count": 3
  },
  {
   "metadata": {
    "ExecuteTime": {
     "end_time": "2024-11-03T18:18:42.302252Z",
     "start_time": "2024-11-03T18:18:42.299658Z"
    }
   },
   "cell_type": "code",
   "source": "tool_ = OxylabsSearchRun(wrapper=oxylabs_wrapper)",
   "id": "40fad7b8e2dd393a",
   "outputs": [],
   "execution_count": 4
  },
  {
   "metadata": {},
   "cell_type": "markdown",
   "source": "## Invocation",
   "id": "636efff6267b9bc1"
  },
  {
   "metadata": {},
   "cell_type": "markdown",
   "source": "### [Invoke directly with args](/docs/concepts/#invoke-with-just-the-arguments)",
   "id": "272f5fdaed5fa000"
  },
  {
   "metadata": {},
   "cell_type": "markdown",
   "source": [
    "The `OxylabsSearchRun` tool takes a single \"query\" argument,  \n",
    "which should be a natural language query and returns combined string format result:"
   ],
   "id": "2efac797311c5123"
  },
  {
   "metadata": {
    "ExecuteTime": {
     "end_time": "2024-11-03T18:18:56.731785Z",
     "start_time": "2024-11-03T18:18:47.532245Z"
    }
   },
   "cell_type": "code",
   "source": "tool_.invoke({\"query\": \"Visit restaurants in Vilnius.\"})",
   "id": "c82fb184dc134bf9",
   "outputs": [
    {
     "data": {
      "text/plain": [
       "\"  ORGANIC RESULTS ITEMS: \\n    ORGANIC-ITEM-1: \\n    POS: 1\\n    URL: https://www.tripadvisor.com/Restaurants-g274951-Vilnius_Vilnius_County.html\\n    DESC: Some of the best restaurants in Vilnius for families with children include: Momo grill Vilnius · Jurgis ir Drakonas Ogmios · RoseHip Vegan\\xa0...\\n    TITLE: THE 10 BEST Restaurants in Vilnius (Updated November ...\\n    SITELINKS: \\n      SITELINKS: \\n      INLINE ITEMS: \\n        INLINE-ITEM-1: \\n        URL: https://www.tripadvisor.com/Restaurants-g274951-zfp58-Vilnius_Vilnius_County.html\\n        TITLE: Vilnius Dinner Restaurants\\n        INLINE-ITEM-2: \\n        URL: https://www.tripadvisor.com/Restaurants-g274951-zfp2-Vilnius_Vilnius_County.html\\n        TITLE: Vilnius Breakfast Restaurants\\n        INLINE-ITEM-3: \\n        URL: https://www.tripadvisor.com/Restaurants-g274951-c8-Vilnius_Vilnius_County.html\\n        TITLE: Cafés in Vilnius\\n    URL_SHOWN: https://www.tripadvisor.com › ... › Vilnius\\n    FAVICON_TEXT: Tripadvisor\\n    ORGANIC-ITEM-2: \\n    POS: 2\\n    URL: https://www.amsterdamfoodie.nl/2022/foodie-guide-to-vilnius-lithuania/\\n    DESC: Dec 2, 2022 — Vilnius takes the top spot for most creative dining with the fabulous restaurant Amandus. Modern gastronomy, with a nod to Lithuanian tradition, goes hand in\\xa0...\\n    TITLE: A Foodie's Guide to Vilnius, Lithuania\\n    URL_SHOWN: https://www.amsterdamfoodie.nl › blog\\n    FAVICON_TEXT: Amsterdam Foodie\\n    ORGANIC-ITEM-3: \\n    POS: 3\\n    URL: https://theweek.com/culture-life/food-drink/foodie-guide-to-vilnius-lithuania\\n    DESC: Jun 24, 2024 — Lithuania's capital has established itself as an affordable culinary hotspot as four of the city's restaurants awarded Michelin stars.\\n    TITLE: Star quality: a foodie guide to Vilnius\\n    SITELINKS: \\n      SITELINKS: \\n      INLINE ITEMS: \\n        INLINE-ITEM-1: \\n        URL: https://theweek.com/culture-life/food-drink/foodie-guide-to-vilnius-lithuania#:~:text=Nineteen18,-With%20its%20%60%60sleek%20and\\n        TITLE: Nineteen18\\n        INLINE-ITEM-2: \\n        URL: https://theweek.com/culture-life/food-drink/foodie-guide-to-vilnius-lithuania#:~:text=D%C5%BEiaugsmas,-D%C5%BEiaugsmas\\n        TITLE: Džiaugsmas\\n        INLINE-ITEM-3: \\n        URL: https://theweek.com/culture-life/food-drink/foodie-guide-to-vilnius-lithuania#:~:text=Gaspar%27s\\n        TITLE: Gaspar's\\n    URL_SHOWN: https://theweek.com › Culture & Life › Food & Drink\\n    FAVICON_TEXT: The Week\\n    ORGANIC-ITEM-4: \\n    POS: 4\\n    URL: https://www.reddit.com/r/Vilnius/comments/13049t3/vilnius_restaurants_suggestions_please/\\n    DESC: I like eating at Bernelių Užeiga. Serves authentic Lithuanian food though it is a little bit commercialised I still usually enjoy the food very\\xa0...\\n    TITLE: Vilnius restaurants suggestions please?\\n    URL_SHOWN: 8 comments  ·  1 year ago\\n    FAVICON_TEXT: Reddit\\xa0·\\xa0r/Vilnius\\n\\n  LOCAL PACK: \\n  ITEMS ITEMS: \\n    ITEMS-ITEM-1: \\n    CID: 13950149882539119249\\n    POS: 1\\n    TITLE: Etno Dvaras\\n    RATING: 4.5\\n    ADDRESS: Lithuanian\\n    ITEMS-ITEM-2: \\n    CID: 711702509070991018\\n    POS: 2\\n    TITLE: Lokys\\n    RATING: 4.5\\n    ADDRESS: Lithuanian\\n    ITEMS-ITEM-3: \\n    CID: 7630589473191639738\\n    POS: 3\\n    TITLE: Senoji trobelė\\n    RATING: 4.4\\n    ADDRESS: Lithuanian\\n\\n  SEARCH INFORMATION: \\n  QUERY: Visit restaurants in Vilnius.\\n  GEO_LOCATION: United States\\n  SHOWING_RESULTS_FOR: Visit restaurants in Vilnius.\\n  TOTAL_RESULTS_COUNT: 1210000\\n\\n  RELATED SEARCHES: \\n  RELATED_SEARCHES ITEMS: \\n    RELATED_SEARCHES-ITEM-1: Best restaurants in Vilnius old town\\n    RELATED_SEARCHES-ITEM-2: Unique places to eat in Vilnius\\n    RELATED_SEARCHES-ITEM-3: Best visit restaurants in vilnius\\n    RELATED_SEARCHES-ITEM-4: Best Lithuanian restaurants in Vilnius\\n    RELATED_SEARCHES-ITEM-5: Restaurants Vilnius old Town\\n    RELATED_SEARCHES-ITEM-6: Vilnius restaurants Michelin\\n    RELATED_SEARCHES-ITEM-7: Fine dining Vilnius\\n    RELATED_SEARCHES-ITEM-8: Tripadvisor Vilnius Restaurants\""
      ]
     },
     "execution_count": 5,
     "metadata": {},
     "output_type": "execute_result"
    }
   ],
   "execution_count": 5
  },
  {
   "metadata": {},
   "cell_type": "markdown",
   "source": "### [Invoke with ToolCall](/docs/concepts/#invoke-with-toolcall)",
   "id": "784aad18bba31062"
  },
  {
   "metadata": {
    "ExecuteTime": {
     "end_time": "2024-11-03T18:18:56.751559Z",
     "start_time": "2024-11-03T18:18:56.749280Z"
    }
   },
   "cell_type": "code",
   "source": [
    "tool_ = OxylabsSearchRun(\n",
    "    wrapper=oxylabs_wrapper,\n",
    "    kwargs={\n",
    "        \"result_categories\": [\n",
    "            \"local_information\",\n",
    "            \"combined_search_result\",\n",
    "        ]\n",
    "    },\n",
    ")"
   ],
   "id": "5bddf124be8f9945",
   "outputs": [],
   "execution_count": 6
  },
  {
   "metadata": {
    "ExecuteTime": {
     "end_time": "2024-11-03T18:19:30.383327Z",
     "start_time": "2024-11-03T18:18:56.801495Z"
    }
   },
   "cell_type": "code",
   "source": [
    "from pprint import pprint\n",
    "\n",
    "model_generated_tool_call = {\n",
    "    \"args\": {\n",
    "        \"query\": \"Visit restaurants in Vilnius.\",\n",
    "        \"geo_location\": \"Vilnius,Lithuania\",\n",
    "    },\n",
    "    \"id\": \"1\",\n",
    "    \"name\": \"oxylabs_search\",\n",
    "    \"type\": \"tool_call\",\n",
    "}\n",
    "tool_call_result = tool_.invoke(model_generated_tool_call)\n",
    "\n",
    "# The content is a JSON string of results\n",
    "pprint(tool_call_result.content)"
   ],
   "id": "1b903fb2f8272df2",
   "outputs": [
    {
     "name": "stdout",
     "output_type": "stream",
     "text": [
      "('  LOCAL PACK: \\n'\n",
      " '  ITEMS ITEMS: \\n'\n",
      " '    ITEMS-ITEM-1: \\n'\n",
      " '    CID: 13950149882539119249\\n'\n",
      " '    POS: 1\\n'\n",
      " '    TITLE: Etno Dvaras\\n'\n",
      " '    RATING: 4.5\\n'\n",
      " '    ADDRESS: Lithuanian\\n'\n",
      " '    ITEMS-ITEM-2: \\n'\n",
      " '    CID: 711702509070991018\\n'\n",
      " '    POS: 2\\n'\n",
      " '    TITLE: Lokys\\n'\n",
      " '    RATING: 4.5\\n'\n",
      " '    ADDRESS: Lithuanian\\n'\n",
      " '    ITEMS-ITEM-3: \\n'\n",
      " '    CID: 7630589473191639738\\n'\n",
      " '    POS: 3\\n'\n",
      " '    TITLE: Senoji trobelė\\n'\n",
      " '    RATING: 4.4\\n'\n",
      " '    ADDRESS: Lithuanian\\n'\n",
      " '\\n'\n",
      " '  ORGANIC RESULTS ITEMS: \\n'\n",
      " '    ORGANIC-ITEM-1: \\n'\n",
      " '    POS: 1\\n'\n",
      " '    URL: '\n",
      " 'https://www.tripadvisor.com/Restaurants-g274951-Vilnius_Vilnius_County.html\\n'\n",
      " '    DESC: Some of the best restaurants in Vilnius for families with children '\n",
      " 'include: Momo grill Vilnius · Jurgis ir Drakonas Ogmios · RoseHip Vegan\\xa0'\n",
      " '...\\n'\n",
      " '    TITLE: THE 10 BEST Restaurants in Vilnius (Updated November ...\\n'\n",
      " '    SITELINKS: \\n'\n",
      " '      SITELINKS: \\n'\n",
      " '      INLINE ITEMS: \\n'\n",
      " '        INLINE-ITEM-1: \\n'\n",
      " '        URL: '\n",
      " 'https://www.tripadvisor.com/Restaurants-g274951-zfp58-Vilnius_Vilnius_County.html\\n'\n",
      " '        TITLE: Vilnius Dinner Restaurants\\n'\n",
      " '        INLINE-ITEM-2: \\n'\n",
      " '        URL: '\n",
      " 'https://www.tripadvisor.com/Restaurants-g274951-zfp2-Vilnius_Vilnius_County.html\\n'\n",
      " '        TITLE: Vilnius Breakfast Restaurants\\n'\n",
      " '        INLINE-ITEM-3: \\n'\n",
      " '        URL: '\n",
      " 'https://www.tripadvisor.com/Restaurants-g274951-c8-Vilnius_Vilnius_County.html\\n'\n",
      " '        TITLE: Cafés in Vilnius\\n'\n",
      " '    URL_SHOWN: https://www.tripadvisor.com› ... › Vilnius\\n'\n",
      " '    FAVICON_TEXT: Tripadvisor\\n'\n",
      " '    ORGANIC-ITEM-2: \\n'\n",
      " '    POS: 2\\n'\n",
      " '    URL: '\n",
      " 'https://theweek.com/culture-life/food-drink/foodie-guide-to-vilnius-lithuania\\n'\n",
      " \"    DESC: Jun 24, 2024 — Lithuania's capital has established itself as an \"\n",
      " \"affordable culinary hotspot as four of the city's restaurants awarded \"\n",
      " 'Michelin stars.\\n'\n",
      " '    TITLE: Star quality: a foodie guide to Vilnius\\n'\n",
      " '    URL_SHOWN: https://theweek.com› Culture & Life › Food & Drink\\n'\n",
      " '    FAVICON_TEXT: The Week\\n'\n",
      " '    ORGANIC-ITEM-3: \\n'\n",
      " '    POS: 3\\n'\n",
      " '    URL: https://www.govilnius.lt/visit-vilnius/restaurants2\\n'\n",
      " '    DESC: Visit local restaurants in Vilnius and have a gastronomic '\n",
      " 'experience ... Vilnius offers many unconventional places for a hearty and '\n",
      " 'inexpensive lunch.\\n'\n",
      " '    TITLE: Restaurants\\n'\n",
      " '    URL_SHOWN: https://www.govilnius.lt› visit-vilnius › restaurants2\\n'\n",
      " '    FAVICON_TEXT: Go Vilnius\\n'\n",
      " '    ORGANIC-ITEM-4: \\n'\n",
      " '    POS: 4\\n'\n",
      " '    URL: '\n",
      " 'https://www.reddit.com/r/Vilnius/comments/uudd1p/good_restaurants_street_food_in_vilnius/\\n'\n",
      " '    DESC: - Alinė Leičiai - also traditional peasant food of history but in '\n",
      " 'a more upscale environment, and more expensive, table service and more '\n",
      " 'diverse\\xa0...\\n'\n",
      " '    TITLE: Good restaurants & street food in Vilnius?\\n'\n",
      " '    URL_SHOWN: 10+ comments  ·  2 years ago\\n'\n",
      " '    FAVICON_TEXT: Reddit\\xa0·\\xa0r/Vilnius')\n"
     ]
    }
   ],
   "execution_count": 7
  },
  {
   "metadata": {},
   "cell_type": "markdown",
   "source": "## Chaining",
   "id": "a436fc39ce17b6da"
  },
  {
   "metadata": {},
   "cell_type": "code",
   "source": [
    "# Install the required libraries\n",
    "%pip install --upgrade --quiet langchain langchain-openai\n",
    "%pip install langchainhub langchain-community"
   ],
   "id": "a6f23e65092e8d27",
   "outputs": [],
   "execution_count": null
  },
  {
   "metadata": {
    "ExecuteTime": {
     "end_time": "2024-11-03T18:21:01.312547Z",
     "start_time": "2024-11-03T18:20:11.876077Z"
    }
   },
   "cell_type": "code",
   "source": [
    "import getpass\n",
    "import os\n",
    "\n",
    "from langchain import hub\n",
    "from langchain.agents import AgentExecutor, create_tool_calling_agent\n",
    "from langchain_openai import ChatOpenAI\n",
    "\n",
    "# Set up OpenAI API credentials\n",
    "os.environ[\"OPENAI_API_KEY\"] = getpass.getpass(\"Enter your OpenAI API key: \")\n",
    "\n",
    "# Define assistant instructions and pull a base prompt template\n",
    "instructions = \"\"\"You are an assistant.\"\"\"\n",
    "base_prompt = hub.pull(\"langchain-ai/openai-functions-template\")\n",
    "prompt = base_prompt.partial(instructions=instructions)\n",
    "\n",
    "# Initialize OpenAI chat model\n",
    "llm = ChatOpenAI(openai_api_key=os.environ[\"OPENAI_API_KEY\"])\n",
    "\n",
    "# Define tools and agent setup\n",
    "tool_ = OxylabsSearchRun(wrapper=oxylabs_wrapper)\n",
    "tools_ = [tool_]\n",
    "agent = create_tool_calling_agent(llm, tools_, prompt)\n",
    "\n",
    "# Set up and invoke the agent executor\n",
    "agent_executor = AgentExecutor(\n",
    "    agent=agent,\n",
    "    tools=tools_,\n",
    "    verbose=True,\n",
    ")\n",
    "agent_executor.invoke({\"input\": \"What happened in the latest Burning Man floods?\"})"
   ],
   "id": "21078a0c265759ff",
   "outputs": [
    {
     "name": "stderr",
     "output_type": "stream",
     "text": [
      "/home/ausra/Data/AMV-workspace/projects_review/Oxylabs/langchain-project/.venv/lib/python3.11/site-packages/langsmith/client.py:354: LangSmithMissingAPIKeyWarning: API key must be provided when using hosted LangSmith API\n",
      "  warnings.warn(\n"
     ]
    },
    {
     "name": "stdout",
     "output_type": "stream",
     "text": [
      "\n",
      "\n",
      "\u001B[1m> Entering new AgentExecutor chain...\u001B[0m\n"
     ]
    },
    {
     "name": "stderr",
     "output_type": "stream",
     "text": [
      "INFO:httpx:HTTP Request: POST https://api.openai.com/v1/chat/completions \"HTTP/1.1 200 OK\"\n"
     ]
    },
    {
     "name": "stdout",
     "output_type": "stream",
     "text": [
      "\u001B[32;1m\u001B[1;3m\n",
      "Invoking: `oxylabs_search` with `{'query': 'latest Burning Man floods news'}`\n",
      "\n",
      "\n",
      "\u001B[0m\u001B[36;1m\u001B[1;3m  ORGANIC RESULTS ITEMS: \n",
      "    ORGANIC-ITEM-1: \n",
      "    POS: 1\n",
      "    URL: https://abcnews.go.com/US/burning-man-flooding-happened-stranded-festivalgoers/story?id=102908331\n",
      "    DESC: Sep 4, 2023 — Tens of thousands of Burning Man attendees are now able to leave the festival after a downpour and massive flooding left them stranded over the weekend.\n",
      "    TITLE: Burning Man flooding: What happened to stranded ...\n",
      "    URL_SHOWN: https://abcnews.go.com› story\n",
      "    FAVICON_TEXT: ABC News - Breaking News, Latest News and Videos\n",
      "    ORGANIC-ITEM-2: \n",
      "    POS: 2\n",
      "    URL: https://www.outsideonline.com/outdoor-adventure/exploration-survival/burning-man-2023-flooding-rain/\n",
      "    DESC: Sep 6, 2023 — When storms left Burning Man 2023 a muddy mess, attendees plotted their way out.\n",
      "    TITLE: How One Man Escaped From Burning Man 2023's Floods\n",
      "    URL_SHOWN: https://www.outsideonline.com› exploration-survival\n",
      "    FAVICON_TEXT: Outside Magazine\n",
      "    ORGANIC-ITEM-3: \n",
      "    POS: 3\n",
      "    URL: https://www.foxweather.com/weather-news/burning-man-festivalgoers-experience-travel-issues-black-rock-city-nevada-rain\n",
      "    DESC: Aug 24, 2024 — Monsoon rains on Friday and over the weekend caused flash flooding at Burning Man, turning the usually dry, desert landscape of the festival ...\n",
      "    TITLE: Travel to Burning Man delayed due to thunderstorms\n",
      "    URL_SHOWN: https://www.foxweather.com› weather-news › burning...\n",
      "    FAVICON_TEXT: FOX Weather\n",
      "    ORGANIC-ITEM-4: \n",
      "    POS: 4\n",
      "    URL: https://www.nbcnews.com/news/us-news/live-blog/live-updates-burning-man-flooding-keeps-thousands-stranded-nevada-site-rcna103193\n",
      "    DESC: Sep 4, 2023 — Burning Man flooding keeps thousands stranded at Nevada site as authorities investigate 1 death. Attendees at the countercultural music and arts ...\n",
      "    TITLE: Burning Man flooding keeps thousands stranded at ...\n",
      "    URL_SHOWN: https://www.nbcnews.com› news › us-news › live-blog\n",
      "    FAVICON_TEXT: NBC News\n",
      "\n",
      "  ORGANIC VIDEOS ITEMS: \n",
      "    ORGANIC_VIDEOS-ITEM-1: \n",
      "    POS: 1\n",
      "    URL: https://www.youtube.com/watch?v=a1xBz6g1Kc8\n",
      "    DESC: Thousands leaving Burning Man festival after flooding from heavy rain Thousands of people are leaving Burning Man after torrential rain ...\n",
      "    TITLE: Thousands leaving Burning Man festival after flooding from ...\n",
      "\n",
      "  SEARCH INFORMATION: \n",
      "  QUERY: latest Burning Man floods news\n",
      "  GEO_LOCATION: United States\n",
      "  SHOWING_RESULTS_FOR: latest Burning Man floods news\n",
      "  TOTAL_RESULTS_COUNT: 33100000\n",
      "\n",
      "  RELATED SEARCHES: \n",
      "  RELATED_SEARCHES ITEMS: \n",
      "    RELATED_SEARCHES-ITEM-1: Latest burning man floods news today\n",
      "    RELATED_SEARCHES-ITEM-2: Latest burning man floods news nevada\n",
      "    RELATED_SEARCHES-ITEM-3: Burning Man 2023 Flood pictures\n",
      "    RELATED_SEARCHES-ITEM-4: Burning Man 2023 flood death\n",
      "    RELATED_SEARCHES-ITEM-5: Burning Man flood 2024\n",
      "    RELATED_SEARCHES-ITEM-6: Flooded Festival 2024\n",
      "    RELATED_SEARCHES-ITEM-7: Burning Man 2024\n",
      "    RELATED_SEARCHES-ITEM-8: Burning Man tickets\u001B[0m"
     ]
    },
    {
     "name": "stderr",
     "output_type": "stream",
     "text": [
      "INFO:httpx:HTTP Request: POST https://api.openai.com/v1/chat/completions \"HTTP/1.1 200 OK\"\n"
     ]
    },
    {
     "name": "stdout",
     "output_type": "stream",
     "text": [
      "\u001B[32;1m\u001B[1;3mIn the latest Burning Man floods, tens of thousands of attendees were stranded at the festival due to a downpour and massive flooding. The flooding caused travel issues and delays for festivalgoers, turning the usually dry desert landscape into a muddy mess. Authorities were investigating one death related to the flooding. Attendees had to plot their way out of the flooded area. Thousands of people are now leaving Burning Man after the torrential rain. If you would like more detailed information, you can visit the following sources for news coverage:\n",
      "\n",
      "1. [ABC News: Burning Man flooding - What happened to stranded festivalgoers](https://abcnews.go.com/US/burning-man-flooding-happened-stranded-festivalgoers/story?id=102908331)\n",
      "2. [Outside Online: How One Man Escaped From Burning Man 2023's Floods](https://www.outsideonline.com/outdoor-adventure/exploration-survival/burning-man-2023-flooding-rain/)\n",
      "3. [FOX Weather: Travel to Burning Man delayed due to thunderstorms](https://www.foxweather.com/weather-news/burning-man-festivalgoers-experience-travel-issues-black-rock-city-nevada-rain)\n",
      "4. [NBC News: Burning Man flooding keeps thousands stranded at Nevada site](https://www.nbcnews.com/news/us-news/live-blog/live-updates-burning-man-flooding-keeps-thousands-stranded-nevada-site-rcna103193)\u001B[0m\n",
      "\n",
      "\u001B[1m> Finished chain.\u001B[0m\n"
     ]
    },
    {
     "data": {
      "text/plain": [
       "{'input': 'What happened in the latest Burning Man floods?',\n",
       " 'output': \"In the latest Burning Man floods, tens of thousands of attendees were stranded at the festival due to a downpour and massive flooding. The flooding caused travel issues and delays for festivalgoers, turning the usually dry desert landscape into a muddy mess. Authorities were investigating one death related to the flooding. Attendees had to plot their way out of the flooded area. Thousands of people are now leaving Burning Man after the torrential rain. If you would like more detailed information, you can visit the following sources for news coverage:\\n\\n1. [ABC News: Burning Man flooding - What happened to stranded festivalgoers](https://abcnews.go.com/US/burning-man-flooding-happened-stranded-festivalgoers/story?id=102908331)\\n2. [Outside Online: How One Man Escaped From Burning Man 2023's Floods](https://www.outsideonline.com/outdoor-adventure/exploration-survival/burning-man-2023-flooding-rain/)\\n3. [FOX Weather: Travel to Burning Man delayed due to thunderstorms](https://www.foxweather.com/weather-news/burning-man-festivalgoers-experience-travel-issues-black-rock-city-nevada-rain)\\n4. [NBC News: Burning Man flooding keeps thousands stranded at Nevada site](https://www.nbcnews.com/news/us-news/live-blog/live-updates-burning-man-flooding-keeps-thousands-stranded-nevada-site-rcna103193)\"}"
      ]
     },
     "execution_count": 8,
     "metadata": {},
     "output_type": "execute_result"
    }
   ],
   "execution_count": 8
  },
  {
   "metadata": {
    "ExecuteTime": {
     "end_time": "2024-11-03T18:22:20.839781Z",
     "start_time": "2024-11-03T18:22:10.574884Z"
    }
   },
   "cell_type": "code",
   "source": [
    "agent_executor.invoke(\n",
    "    {\"input\": \"What is the most profitable company in Lithuania in 2024?\"}\n",
    ")"
   ],
   "id": "41870f403b9a7a8d",
   "outputs": [
    {
     "name": "stdout",
     "output_type": "stream",
     "text": [
      "\n",
      "\n",
      "\u001B[1m> Entering new AgentExecutor chain...\u001B[0m\n"
     ]
    },
    {
     "name": "stderr",
     "output_type": "stream",
     "text": [
      "INFO:httpx:HTTP Request: POST https://api.openai.com/v1/chat/completions \"HTTP/1.1 200 OK\"\n"
     ]
    },
    {
     "name": "stdout",
     "output_type": "stream",
     "text": [
      "\u001B[32;1m\u001B[1;3m\n",
      "Invoking: `oxylabs_search` with `{'query': 'most profitable company in Lithuania in 2024'}`\n",
      "\n",
      "\n",
      "\u001B[0m\u001B[36;1m\u001B[1;3m  ORGANIC RESULTS ITEMS: \n",
      "    ORGANIC-ITEM-1: \n",
      "    POS: 1\n",
      "    URL: https://ceoworld.biz/2024/02/19/lithuanias-largest-companies-by-market-capitalization-2024/\n",
      "    DESC: Feb 19, 2024 — As of October 24, 2024, AB IGNITIS GRUPE is the most valuable company in Lithuania, with a market cap of $1.51 billion. Following it are TELIA ...\n",
      "    TITLE: Lithuania's Largest Companies by market capitalization, ...\n",
      "    URL_SHOWN: https://ceoworld.biz› Latest › Banking and Finance\n",
      "    FAVICON_TEXT: CEOWORLD magazine\n",
      "    ORGANIC-ITEM-2: \n",
      "    POS: 2\n",
      "    URL: https://lithuania.lt/news/business-and-innovations-in-lithuania/which-startups-will-be-making-waves-in-lithuania-in-2024/\n",
      "    DESC: Jan 23, 2024 — Which startups will be making waves in Lithuania in 2024? · Which startups are worth keeping an eye on in 2024? · 1. Cast AI: · 2. Amlyze: · 3.\n",
      "    TITLE: Which startups will be making waves in Lithuania in 2024?\n",
      "    URL_SHOWN: https://lithuania.lt› News\n",
      "    FAVICON_TEXT: lithuania.lt\n",
      "    ORGANIC-ITEM-3: \n",
      "    POS: 3\n",
      "    URL: https://www.f6s.com/companies/lithuania/lo\n",
      "    DESC: Oct 24, 2024 — Detailed info and reviews on 100 top companies and startups in Lithuania in 2024. Get the latest updates on their products, jobs, funding, ...\n",
      "    TITLE: 100 top Companies and Startups in Lithuania in October ...\n",
      "    URL_SHOWN: https://www.f6s.com› companies › lithuania\n",
      "    FAVICON_TEXT: F6S\n",
      "    ORGANIC-ITEM-4: \n",
      "    POS: 4\n",
      "    URL: https://www.failory.com/startups/lithuania\n",
      "    DESC: Here's an extensive list with the 76 best startups in Lithuania and their main information.\n",
      "    TITLE: Top 76 Startups in Lithuania in 2024\n",
      "    SITELINKS: \n",
      "      SITELINKS: \n",
      "      INLINE ITEMS: \n",
      "        INLINE-ITEM-1: \n",
      "        URL: https://www.failory.com/startups/lithuania#76-startups-in-lithuania\n",
      "        TITLE: Startups in Lithuania\n",
      "        INLINE-ITEM-2: \n",
      "        URL: https://www.failory.com/startups/lithuania#3-affise\n",
      "        TITLE: 3) Affise\n",
      "        INLINE-ITEM-3: \n",
      "        URL: https://www.failory.com/startups/lithuania#4-trafi\n",
      "        TITLE: 4) Trafi\n",
      "        INLINE-ITEM-4: \n",
      "        URL: https://www.failory.com/startups/lithuania#8-ziticity\n",
      "        TITLE: 8) ZITICITY\n",
      "    URL_SHOWN: https://www.failory.com› startups › lithuania\n",
      "    FAVICON_TEXT: Failory\n",
      "    ORGANIC-ITEM-5: \n",
      "    POS: 5\n",
      "    URL: https://bebeez.eu/2024/04/02/these-8-startups-secured-the-largest-lithuanian-funding-rounds-in-q1-2024-some-are-now-hiring/\n",
      "    DESC: Apr 2, 2024 — These 8 startups secured the largest Lithuanian funding rounds in Q1 2024; some are now hiring. Silicon Canals bySilicon Canals · April 2, 2024.\n",
      "    TITLE: These 8 startups secured the largest Lithuanian funding ...\n",
      "    URL_SHOWN: https://bebeez.eu› 2024/04/02 › these-8-startups-secure...\n",
      "    FAVICON_TEXT: BeBeez International\n",
      "\n",
      "  SEARCH INFORMATION: \n",
      "  QUERY: most profitable company in Lithuania in 2024\n",
      "  GEO_LOCATION: United States\n",
      "  SHOWING_RESULTS_FOR: most profitable company in Lithuania in 2024\n",
      "  TOTAL_RESULTS_COUNT: 49000000\n",
      "\n",
      "  RELATED SEARCHES: \n",
      "  RELATED_SEARCHES ITEMS: \n",
      "    RELATED_SEARCHES-ITEM-1: Top 10 most profitable company in lithuania in 2024\n",
      "    RELATED_SEARCHES-ITEM-2: Top 20 most profitable company in lithuania in 2024\n",
      "    RELATED_SEARCHES-ITEM-3: Most profitable company in lithuania in 2024 by revenue\n",
      "    RELATED_SEARCHES-ITEM-4: Most profitable company in lithuania in 2024 in us\n",
      "    RELATED_SEARCHES-ITEM-5: International companies in Lithuania\n",
      "    RELATED_SEARCHES-ITEM-6: Biggest Lithuanian companies\n",
      "    RELATED_SEARCHES-ITEM-7: Top 10 companies in Lithuania\n",
      "    RELATED_SEARCHES-ITEM-8: IT companies in Lithuania\u001B[0m"
     ]
    },
    {
     "name": "stderr",
     "output_type": "stream",
     "text": [
      "INFO:httpx:HTTP Request: POST https://api.openai.com/v1/chat/completions \"HTTP/1.1 200 OK\"\n"
     ]
    },
    {
     "name": "stdout",
     "output_type": "stream",
     "text": [
      "\u001B[32;1m\u001B[1;3mThe most valuable company in Lithuania in 2024 is AB IGNITIS GRUPE, with a market capitalization of $1.51 billion as of October 24, 2024.\u001B[0m\n",
      "\n",
      "\u001B[1m> Finished chain.\u001B[0m\n"
     ]
    },
    {
     "data": {
      "text/plain": [
       "{'input': 'What is the most profitable company in Lithuania in 2024?',\n",
       " 'output': 'The most valuable company in Lithuania in 2024 is AB IGNITIS GRUPE, with a market capitalization of $1.51 billion as of October 24, 2024.'}"
      ]
     },
     "execution_count": 9,
     "metadata": {},
     "output_type": "execute_result"
    }
   ],
   "execution_count": 9
  },
  {
   "metadata": {},
   "cell_type": "markdown",
   "source": "## API reference",
   "id": "832feec8cca13c4b"
  },
  {
   "metadata": {},
   "cell_type": "markdown",
   "source": [
    "\n",
    "For detailed documentation of all OxylabsSearchRun features and configurations\n",
    "head to the API reference:\n",
    " https://python.langchain.com/api_reference/community/tools/langchain_community.tools.oxylabs_search.tool.OxylabsSearchRun.html"
   ],
   "id": "ced3716cae79f6a9"
  },
  {
   "metadata": {},
   "cell_type": "code",
   "outputs": [],
   "execution_count": null,
   "source": "",
   "id": "af9e8bb9eae38ada"
  }
 ],
 "metadata": {
  "kernelspec": {
   "display_name": "Python 3",
   "language": "python",
   "name": "python3"
  },
  "language_info": {
   "codemirror_mode": {
    "name": "ipython",
    "version": 2
   },
   "file_extension": ".py",
   "mimetype": "text/x-python",
   "name": "python",
   "nbconvert_exporter": "python",
   "pygments_lexer": "ipython2",
   "version": "2.7.6"
  }
 },
 "nbformat": 4,
 "nbformat_minor": 5
}
