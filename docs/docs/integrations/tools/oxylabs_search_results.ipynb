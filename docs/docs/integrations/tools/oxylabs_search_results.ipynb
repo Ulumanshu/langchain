{
 "cells": [
  {
   "metadata": {},
   "cell_type": "markdown",
   "source": "# Oxylabs Search Results",
   "id": "3d5f69fd9e33e94b"
  },
  {
   "metadata": {},
   "cell_type": "markdown",
   "source": "## Overview",
   "id": "65142ccb18a6add5"
  },
  {
   "metadata": {},
   "cell_type": "markdown",
   "source": "This notebook goes over how to use the Oxylabs search results component.\n",
   "id": "19976df355f9c461"
  },
  {
   "metadata": {},
   "cell_type": "markdown",
   "source": "### Integration details\n",
   "id": "e5c65c1c2cf0a8a2"
  },
  {
   "metadata": {},
   "cell_type": "markdown",
   "source": [
    "| Class                                                                                                                                                    | Package |\n",
    "|:---------------------------------------------------------------------------------------------------------------------------------------------------------| :--- |\n",
    "| [OxylabsSearchResult](https://python.langchain.com/api_reference/community/tools/langchain_community.tools.oxylabs_search.tool.OxylabsSearchResult.html) | [langchain-community](https://python.langchain.com/api_reference/community/index.html) |"
   ],
   "id": "515fbf211172fe3d"
  },
  {
   "metadata": {},
   "cell_type": "markdown",
   "source": "### Tool features",
   "id": "31e5c41fc6361d6b"
  },
  {
   "metadata": {},
   "cell_type": "markdown",
   "source": [
    "| [Returns artifact](/docs/how_to/tool_artifacts/) | Pricing         |\n",
    "| :---: | :-----------------------:|\n",
    "| ✅ | x free searches / month |"
   ],
   "id": "76e6d8030199710d"
  },
  {
   "metadata": {},
   "cell_type": "markdown",
   "source": "## Setup",
   "id": "eb59c5f3051be9d4"
  },
  {
   "metadata": {},
   "cell_type": "markdown",
   "source": "The integration lives in the `langchain-community` package. We also need to install the `oxylabs` package.",
   "id": "45951d881c460419"
  },
  {
   "metadata": {},
   "cell_type": "code",
   "source": "%pip install -U langchain-community oxylabs",
   "id": "576e08c41f16ceda",
   "outputs": [],
   "execution_count": null
  },
  {
   "metadata": {},
   "cell_type": "markdown",
   "source": "### Credentials",
   "id": "ce19bb3a52a3ab60"
  },
  {
   "metadata": {},
   "cell_type": "markdown",
   "source": "Set up the proper API keys and environment variables. Create your API user credentials: Sign up for a free trial or purchase the product in the [Oxylabs dashboard](https://dashboard.oxylabs.io/en/registration) to create your API user credentials (OXYLABS_USERNAME and OXYLABS_PASSWORD).",
   "id": "b8330dfd5861482e"
  },
  {
   "metadata": {
    "ExecuteTime": {
     "end_time": "2024-11-03T18:48:15.050125Z",
     "start_time": "2024-11-03T18:47:58.386031Z"
    }
   },
   "cell_type": "code",
   "source": [
    "import getpass\n",
    "import os\n",
    "\n",
    "os.environ[\"OXYLABS_USERNAME\"] = getpass.getpass()\n",
    "os.environ[\"OXYLABS_PASSWORD\"] = getpass.getpass()"
   ],
   "id": "474b6eaf6e35efda",
   "outputs": [],
   "execution_count": 2
  },
  {
   "metadata": {},
   "cell_type": "markdown",
   "source": "## Instantiation",
   "id": "ae310f86b113bd78"
  },
  {
   "metadata": {
    "ExecuteTime": {
     "end_time": "2024-11-03T18:48:28.839638Z",
     "start_time": "2024-11-03T18:48:28.247035Z"
    }
   },
   "cell_type": "code",
   "source": [
    "from langchain_community.tools.oxylabs_search import OxylabsSearchResults\n",
    "from langchain_community.utilities import OxylabsSearchAPIWrapper\n",
    "\n",
    "oxylabs_wrapper = OxylabsSearchAPIWrapper()"
   ],
   "id": "69ea8139f6152b48",
   "outputs": [],
   "execution_count": 3
  },
  {
   "metadata": {
    "ExecuteTime": {
     "end_time": "2024-11-03T18:48:29.799293Z",
     "start_time": "2024-11-03T18:48:29.797021Z"
    }
   },
   "cell_type": "code",
   "source": "tool_ = OxylabsSearchResults(wrapper=oxylabs_wrapper)",
   "id": "eedd02f393438308",
   "outputs": [],
   "execution_count": 4
  },
  {
   "metadata": {},
   "cell_type": "markdown",
   "source": "## Invocation",
   "id": "636efff6267b9bc1"
  },
  {
   "metadata": {},
   "cell_type": "markdown",
   "source": "### [Invoke directly with args](/docs/concepts/#invoke-with-just-the-arguments)",
   "id": "272f5fdaed5fa000"
  },
  {
   "metadata": {},
   "cell_type": "markdown",
   "source": "The `OxylabsSearchResults` tool takes a single \"query\" argument, which should be a natural language query and returns all raw results in JSON format:",
   "id": "3c26724911f6cfdf"
  },
  {
   "metadata": {
    "ExecuteTime": {
     "end_time": "2024-11-03T18:59:39.612316Z",
     "start_time": "2024-11-03T18:59:15.191133Z"
    }
   },
   "cell_type": "code",
   "source": [
    "import json\n",
    "\n",
    "response_results = tool_.invoke({\"query\": \"Visit restaurants in Vilnius.\"})\n",
    "response_results = json.loads(response_results)\n",
    "for item in response_results:\n",
    "    print(item)"
   ],
   "id": "b5f4d423cb3abf",
   "outputs": [
    {
     "name": "stdout",
     "output_type": "stream",
     "text": [
      "{'paid': [], 'organic': [{'pos': 1, 'url': 'https://www.tripadvisor.com/Restaurants-g274951-Vilnius_Vilnius_County.html', 'desc': 'Some of the best restaurants in Vilnius for families with children include: Momo grill Vilnius · Jurgis ir Drakonas Ogmios · RoseHip Vegan\\xa0...', 'title': 'THE 10 BEST Restaurants in Vilnius (Updated November ...', 'images': ['/9j/4AAQSkZJRgABAQAAAQABAAD/2wCEAAkGBwgHBgkIBwgKCgkLDRYPDQwMDRsUFRAWIB0iIiAdHx8kKDQsJCYxJx8fLT0tMTU3Ojo6Iys/RD84QzQ5OjcBCgoKDQwNGg8PGjclHyU3Nzc3Nzc3Nzc3Nzc3Nzc3Nzc3Nzc3Nzc3Nzc3Nzc3Nzc3Nzc3Nzc3Nzc3Nzc3Nzc3N//AABEIAFwAXAMBIgACEQEDEQH/xAAbAAADAQADAQAAAAAAAAAAAAAEBQYDAQIHAP/EADgQAAIBAgQDBQcCBQUBAAAAAAECAwQRAAUSIRMxQSJRYXGBBhQykbHB8KHRFSNCUuEHM2Jy8ST/xAAZAQEAAwEBAAAAAAAAAAAAAAADAQIEBQD/xAAjEQACAgICAgIDAQAAAAAAAAABAgARAyESMSJBMlETkaEE/9oADAMBAAIRAxEAPwBdDWSxFkkZxewKhwRY+gN7D/0YEqK+UDhRNrdhdAl9h3W3uL2tf9saLFNOupUYR81LNu3fa+w3GGfBip+KYI4lUqCAq7k9Sep6/PHDsCdk/USqlfImj3d1UCxLaeR8vTB4ykyKRU10YZeyUjXfy3tbfwwRDVBiAIWtrAJCAXPngqGnMocNrJkfUG0opHUi++ILmTxiHO6inyGl48haqkVgqxu6Asp6na9vLqcATe09Gyr7rS1LNKAxSSWyqfKxvjP20yeYyS1qlmRIO1xJFJFieWFEVHClHFLOrqpsVk3HyP2xrxqhQH3Mrlw1Sip88y+urI6BYqyOR0tqkcWB5nfn389uW2KIZRC8ciwZnJxAWfS8QkKyb77AHocQ/spA8vtFI4kICxNpa1yNx3+uPUaQSNTSieeaTUBuh3B8N/y+Bz0jeMXFbLuTnuOY05HATiKWtI8RbUAADqCtY33HIcttscTzTyxlqmypcJcNuBfZrEXB7+/5Yp6eFlN0mqlIJ3kP5thdWQRTRMKhGmYLcGGRQ/hbf8HlgQ4Ji8SIDTz1LqquWVzdQRILnxA5/niMH0clTLAPd5I5o1OkSVUZLt43I3H5zvhOUqsshVATIrAqNHajXuZmtz3O31FhhpQ1izUyu73kPxkLq387H87uWJYakgwc8SmVX4PELOSSeyB6cz6Y7a45WCyoAbjdFsN+WMZsupve1lJkJmIY6JGAUi1uW2OEoI0MjPNOsats6TMSB1uMUHH7k019QgPGkh0Hs3BAte45HBsEyFitjfla+EuYzZZQDS9bUK6nZeKWY787dxGPqGRq6MiGPNm1KdDcNrHn3Du2xbhy3I5V3M/a1LZZWIInVGRRc33BYXtjzSSvqYKf3KZmKqRbyHdj0/N8tpmqeBx6louGCytJfUbi3TCuHJaKILLCZr2DXMpONeB1xrRmbMhc6mX+n9DOTJWzrpElghI+Ifti4gkGlo3CHW9l23sOfLywBSZVEsBPvdYSHVSeMeWk3/XBGYZNT0yxlZ6lLA3Y1BsOXfy68sZsxDtdxsXiOMMgU34jNCin4bg/rc7727sDzoVB7OljzvTICR1FwcC09NQVKSaJGlYadBFQTv4i+O0mVZez6XQSA2sS55A7k3wDAD3/ACMtk9QKuQRySrIqzUupjwuzYjzG53689sYU0UQj/l1UUYLEmOWoIZD3bW8/XBU+T5d7uJzSs8RB1LYLp/7b8j+dMCSZFQyuXp4TGh/pF7DywwdB2YZRj1GNXUJTxR8JdTarWL6Tqv4eP1wPWVcUlIe2UkJ2s5OnvtjarkAeKHW5AIJPEAI2A3+uF2af7ICuDqfZyVud7+n+MEgsiIxj/wD0/wDZ3L52nrJoWnlRgF4xDC/U2G18V/tJVPQ5YnCkELvIEDA2/pb/ABiIyL2pPsxlBaOjaqmqpiqqGuVCKLkW5/ENvPHPtbniVWS5FPNPNx5p2DK4aJrkmwKjqLfl8dMWE1Oa1F9xHWTH+Iqt9rC49cZUcmqmTqfd0t6m33xlmEmnNFPfGzfIXxhlUtqeO/Sni+rYzKPGaj3KqkqLU5BO5lP3H7YM9oY6ObJjV1S6ninWONtXwhg19uR+Ec8SwrSKelf++ck+VzjX2hzLhw08Uq66djIZEJ2JBFvrioHl+5XJ8O5nS5JPVR1FTRAmzDTUxs10tfULAd1uvzw0pxm9HUR09fDxFdC0NUmwlCmxU+PeP3xlk6uMpUU0AamlD8QtpLKwG9je9rb744oMzkllRXeb3d2JdS101dGHjzxOWuOxKYXKlQPcb00gpUleVeJUTdm1tj4Dw5Yy/hRnJemdkX+pVDEA+FumNDURtMWgGuVEPa1c+ZtjMtOxvOamNv7INlUd3PGQXOgaiL+KQkBpqxEYkHhyIoIAuLG+A6ib3ljoropVDaljSJDbfbC+fJPejxBmUrgmxvCRvv0xlTZVHlcrTy1fGK7BOEdyT5+GNiog97mZmf6ljlWZwZfQJPUUCTTmWVY2aSxjFl1AWHI7C3hhB7bZ+ub1WTIsBhaKoYkA3BsF9ev1wvzyukfKUmWuaAxzPpRUD8S4X0Fjt64nYq6SfMIAZmcKzWJFrkjc/oMPjwtfMnUy5GX4ypzKT/7geeilc/oB98Y0sumh1X3GhfkzfvjKpkvrfmfdQPn/AOYUR51AtKsXBlvtqYAdPXFceMstCI7gHcoIpS0dIhI0rHf1wzZo56eEy1Mcdi40PGGDg9SDttYfPwxL5bXx1R0xq6mNAvaHP8timo1qZ4z7kXuALhRe4J8xg3HF6Mup5LqMqWeS0NDRpl9Qzkl5JIQoVbDc6bn9OuMqrJpcjZaqsqqSSKR7cSOTftXI26Ltb5emNTmOcZfHrMbsrLwrSKFGq91ubnqThFW5bU12d1shlhAnSORCWJW3LoP+JxauRNnUqFIIIGxK6mzOlWPWJYW3AJCrc/rt3Y2lNNO2tqgse9GUDv8AviLg9lq2Z2Cy0j6bdSBuLjp3YMT2MzEXDGl2JHxkfbBHCvpo/wCQ+xNs8zKeOmeRW30FyAO5l+xOJlcyqKsBZ+0GPZGrlv4Y0os4TNJZ46kCNOCy6f8AiefrywDHxGljMVg1rEFemHw4uC8WG5nbLyridR2kaVeXwgCwSqEele5hb67+mNsxyOmoqGSqVryIAV2HMm33x9lK8Fm0u2i+pha4U/vgvP6hTk8lyFUlRbv3/wAYmySAJGhdxEKtTDUAtYtCEv3c/wB8a5dSvS0rxyAFmbUtj02wlZg0Mmk3BIFwL46pnVYy6rwC3em+FGNiPGUORQbMbwwy0sDGUAa5tSkd1rYrfZ2pUTSNG1tSD53xAU+aVNUjLNwygYbKtreP6YpskfhKSx5qBz88Dmxm99xcTj1H3tDRivhZmchlF9sRdBUijramWUu4QaWK7EnWevzxV1EvFpzHvcjbEnWUDrOqfzE96ZIr2B2J28t8ew6BU9Scx2GHcvslzFIhHJJH2dt2AYrsDY9+KNWica4ogVftXVtj5W2x5/Q1SvTuVIP86Tbusx+1sHUlROsVoqh4lvyVyBjm5efIhTU0LR7E81SkKncgffBdNAFOldsdNRLgHBEJ3x2WYmc9QB1H2XDTEVFjt2rgb4w9oohLlwjFxobUbrscfQEiNXB32xnmA4qhXJ5H1wSmjcQixJ0TOkZjbtIBsL2tgSLh6O2tz33/AM4Ysi6ittsdUgjHZ0iwxqDgCAyEzLLGUSEFgAXAseoN8VtE2lSliPHErwUX4Ra/dh3lkr8JVuduvXBZd7iYtaj3jBQQSb+GEecTMqcdfjjOoX53HjgpZH1N2j54CzXelnv/AGH6YJfkIrdRfRVr0MhqELSU8n+6t7m/93niupa+n91ia+rWuoHwOIKhY6ZVubaCw89v3w7pp3kpoiQosukADaw2H0x7/XhB3DwZCJ//2Q=='], 'sitelinks': {'inline': [{'url': 'https://www.tripadvisor.com/Restaurants-g274951-zfp58-Vilnius_Vilnius_County.html', 'title': 'Vilnius Dinner Restaurants'}, {'url': 'https://www.tripadvisor.com/Restaurants-g274951-zfp2-Vilnius_Vilnius_County.html', 'title': 'Vilnius Breakfast Restaurants'}, {'url': 'https://www.tripadvisor.com/Restaurants-g274951-c8-Vilnius_Vilnius_County.html', 'title': 'Cafés in Vilnius'}]}, 'url_shown': 'https://www.tripadvisor.com› ... › Vilnius', 'pos_overall': 1, 'favicon_text': 'Tripadvisor'}, {'pos': 2, 'url': 'https://www.amsterdamfoodie.nl/2022/foodie-guide-to-vilnius-lithuania/', 'desc': 'Dec 2, 2022 — Vilnius takes the top spot for most creative dining with the fabulous restaurant Amandus. Modern gastronomy, with a nod to Lithuanian tradition, goes hand in\\xa0...', 'title': \"A Foodie's Guide to Vilnius, Lithuania\", 'sitelinks': {'inline': [{'url': 'https://www.amsterdamfoodie.nl/2022/foodie-guide-to-vilnius-lithuania/#:~:text=Fine%20dining%20in%20Vilnius%3A%20Amandus', 'title': 'Fine Dining In Vilnius...'}, {'url': 'https://www.amsterdamfoodie.nl/2022/foodie-guide-to-vilnius-lithuania/#:~:text=Traditional%20Lithuanian%20cuisine%20in%20Vilnius%3A%20Stikliai%20Tavern', 'title': 'Traditional Lithuanian...'}, {'url': 'https://www.amsterdamfoodie.nl/2022/foodie-guide-to-vilnius-lithuania/#:~:text=Six%20of%20the%20Best%20Bars%20in%20Vilnius', 'title': 'Six Of The Best Bars In...'}]}, 'url_shown': 'https://www.amsterdamfoodie.nl› blog', 'pos_overall': 2, 'favicon_text': 'Amsterdam Foodie'}, {'pos': 3, 'url': 'https://www.govilnius.lt/visit-vilnius/restaurants2', 'desc': 'Visit local restaurants in Vilnius and have a gastronomic experience ... Vilnius offers many unconventional places for a hearty and inexpensive lunch.', 'title': 'Restaurants', 'images': ['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'], 'url_shown': 'https://www.govilnius.lt› visit-vilnius › restaurants2', 'pos_overall': 3, 'favicon_text': 'Go Vilnius'}, {'pos': 4, 'url': 'https://theweek.com/culture-life/food-drink/foodie-guide-to-vilnius-lithuania', 'desc': \"Jun 24, 2024 — Lithuania's capital has established itself as an affordable culinary hotspot as four of the city's restaurants awarded Michelin stars.\", 'title': 'Star quality: a foodie guide to Vilnius', 'images': ['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'], 'sitelinks': {'inline': [{'url': 'https://theweek.com/culture-life/food-drink/foodie-guide-to-vilnius-lithuania#:~:text=Nineteen18,-With%20its%20%60%60sleek%20and', 'title': 'Nineteen18'}, {'url': 'https://theweek.com/culture-life/food-drink/foodie-guide-to-vilnius-lithuania#:~:text=D%C5%BEiaugsmas,-D%C5%BEiaugsmas', 'title': 'Džiaugsmas'}, {'url': 'https://theweek.com/culture-life/food-drink/foodie-guide-to-vilnius-lithuania#:~:text=Gaspar%27s', 'title': \"Gaspar's\"}]}, 'url_shown': 'https://theweek.com› Culture & Life › Food & Drink', 'pos_overall': 4, 'favicon_text': 'The Week'}], 'local_pack': {'items': [{'cid': '13950149882539119249', 'pos': 1, 'title': 'Etno Dvaras', 'rating': 4.5, 'address': 'Lithuanian', 'rating_count': 0}, {'cid': '711702509070991018', 'pos': 2, 'title': 'Lokys', 'rating': 4.5, 'address': 'Lithuanian', 'rating_count': 0}, {'cid': '6362402554387935672', 'pos': 3, 'title': 'Ertlio Namas', 'rating': 4.7, 'address': 'Šv. Jono g. 7', 'subtitle': 'Lithuanian', 'rating_count': 0}], 'pos_overall': 5}, 'related_searches': {'pos_overall': 6, 'related_searches': ['Best restaurants in Vilnius old town', 'Unique places to eat in Vilnius', 'Best visit restaurants in vilnius', 'Best Lithuanian restaurants in Vilnius', 'Restaurants Vilnius old Town', 'Vilnius restaurants Michelin', 'Fine dining Vilnius', 'Tripadvisor Vilnius Restaurants']}, 'search_information': {'query': 'Visit restaurants in Vilnius.', 'geo_location': 'United States', 'showing_results_for': 'Visit restaurants in Vilnius.', 'total_results_count': 1200000}, 'total_results_count': 1200000}\n"
     ]
    }
   ],
   "execution_count": 5
  },
  {
   "metadata": {},
   "cell_type": "markdown",
   "source": "### [Invoke with ToolCall](/docs/concepts/#invoke-with-toolcall)",
   "id": "784aad18bba31062"
  },
  {
   "metadata": {
    "ExecuteTime": {
     "end_time": "2024-11-03T19:01:46.028568Z",
     "start_time": "2024-11-03T19:01:46.026542Z"
    }
   },
   "cell_type": "code",
   "source": [
    "tool_ = OxylabsSearchResults(\n",
    "    wrapper=oxylabs_wrapper,\n",
    "    kwargs={\n",
    "        \"result_categories\": [\n",
    "            \"local_information\",\n",
    "            \"combined_search_result\",\n",
    "        ]\n",
    "    },\n",
    ")"
   ],
   "id": "5bddf124be8f9945",
   "outputs": [],
   "execution_count": 6
  },
  {
   "metadata": {
    "ExecuteTime": {
     "end_time": "2024-11-03T19:02:30.052488Z",
     "start_time": "2024-11-03T19:02:16.352176Z"
    }
   },
   "cell_type": "code",
   "source": [
    "from pprint import pprint\n",
    "\n",
    "model_generated_tool_call = {\n",
    "    \"args\": {\n",
    "        \"query\": \"Visit restaurants in Vilnius.\",\n",
    "        \"geo_location\": \"Vilnius,Lithuania\",\n",
    "    },\n",
    "    \"id\": \"1\",\n",
    "    \"name\": \"oxylabs_search\",\n",
    "    \"type\": \"tool_call\",\n",
    "}\n",
    "tool_call_result = tool_.invoke(model_generated_tool_call)\n",
    "\n",
    "# The content is a JSON string of results\n",
    "pprint(tool_call_result.content)"
   ],
   "id": "1b903fb2f8272df2",
   "outputs": [
    {
     "name": "stdout",
     "output_type": "stream",
     "text": [
      "('[{\"paid\": [], \"organic\": [{\"pos\": 1, \"url\": '\n",
      " '\"https://www.tripadvisor.com/Restaurants-g274951-Vilnius_Vilnius_County.html\", '\n",
      " '\"desc\": \"Restaurants in Vilnius ; Pirmas Blynas \\\\u00b7 316. Cafe, '\n",
      " 'International, European, Healthy ; Pachamama Dinner Club \\\\u00b7 529. '\n",
      " 'Peruvian, Latin, Bar,\\\\u00a0...\", \"title\": \"THE 10 BEST Restaurants in '\n",
      " 'Vilnius (Updated November ...\", \"images\": '\n",
      " '[\"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\"], '\n",
      " '\"sitelinks\": {\"inline\": [{\"url\": '\n",
      " '\"https://www.tripadvisor.com/Restaurants-g274951-zfp58-Vilnius_Vilnius_County.html\", '\n",
      " '\"title\": \"Vilnius Dinner Restaurants\"}, {\"url\": '\n",
      " '\"https://www.tripadvisor.com/Restaurants-g274951-zfp2-Vilnius_Vilnius_County.html\", '\n",
      " '\"title\": \"Vilnius Breakfast Restaurants\"}, {\"url\": '\n",
      " '\"https://www.tripadvisor.com/Restaurants-g274951-c8-Vilnius_Vilnius_County.html\", '\n",
      " '\"title\": \"Caf\\\\u00e9s in Vilnius\"}]}, \"url_shown\": '\n",
      " '\"https://www.tripadvisor.com\\\\u203a ... \\\\u203a Vilnius\", \"pos_overall\": 1, '\n",
      " '\"favicon_text\": \"Tripadvisor\"}, {\"pos\": 2, \"url\": '\n",
      " '\"https://www.amsterdamfoodie.nl/2022/foodie-guide-to-vilnius-lithuania/\", '\n",
      " '\"desc\": \"Dec 2, 2022 \\\\u2014 Fine dining in Vilnius: Amandus \\\\u00b7 '\n",
      " 'Traditional Lithuanian cuisine in Vilnius: Stikliai Tavern \\\\u00b7 Brunch in '\n",
      " 'Vilnius: Taste Map \\\\u00b7 Vilnius food hall:\\\\u00a0...\", \"title\": \"A '\n",
      " 'Foodie\\'s Guide to Vilnius, Lithuania\", \"url_shown\": '\n",
      " '\"https://www.amsterdamfoodie.nl\\\\u203a blog\", \"pos_overall\": 2, '\n",
      " '\"favicon_text\": \"Amsterdam Foodie\"}, {\"pos\": 3, \"url\": '\n",
      " '\"https://theweek.com/culture-life/food-drink/foodie-guide-to-vilnius-lithuania\", '\n",
      " '\"desc\": \"Jun 24, 2024 \\\\u2014 Lithuania\\'s capital has established itself as '\n",
      " \"an affordable culinary hotspot as four of the city's restaurants awarded \"\n",
      " 'Michelin stars.\", \"title\": \"Star quality: a foodie guide to Vilnius\", '\n",
      " '\"sitelinks\": {\"inline\": [{\"url\": '\n",
      " '\"https://theweek.com/culture-life/food-drink/foodie-guide-to-vilnius-lithuania#:~:text=Nineteen18,-With%20its%20%60%60sleek%20and\", '\n",
      " '\"title\": \"Nineteen18\"}, {\"url\": '\n",
      " '\"https://theweek.com/culture-life/food-drink/foodie-guide-to-vilnius-lithuania#:~:text=D%C5%BEiaugsmas,-D%C5%BEiaugsmas\", '\n",
      " '\"title\": \"D\\\\u017eiaugsmas\"}, {\"url\": '\n",
      " '\"https://theweek.com/culture-life/food-drink/foodie-guide-to-vilnius-lithuania#:~:text=Gaspar%27s\", '\n",
      " '\"title\": \"Gaspar\\'s\"}]}, \"url_shown\": \"https://theweek.com\\\\u203a Culture & '\n",
      " 'Life \\\\u203a Food & Drink\", \"pos_overall\": 3, \"favicon_text\": \"The Week\"}, '\n",
      " '{\"pos\": 4, \"url\": '\n",
      " '\"https://www.reddit.com/r/Vilnius/comments/13049t3/vilnius_restaurants_suggestions_please/\", '\n",
      " '\"desc\": \"I am visiting Vilnius in June, I wonder if you guys can recommend '\n",
      " 'me some authentic Lithuanian restaurant that you guys actually eat '\n",
      " 'Lithuanian\\\\u00a0...\", \"title\": \"Vilnius restaurants suggestions please?\", '\n",
      " '\"url_shown\": \"8 comments  \\\\u00b7  1 year ago\", \"pos_overall\": 4, '\n",
      " '\"favicon_text\": \"Reddit\\\\u00a0\\\\u00b7\\\\u00a0r/Vilnius\"}], \"local_pack\": '\n",
      " '{\"items\": [{\"cid\": \"13950149882539119249\", \"pos\": 1, \"title\": \"Etno Dvaras\", '\n",
      " '\"rating\": 4.5, \"address\": \"Lithuanian\", \"rating_count\": 0}, {\"cid\": '\n",
      " '\"711702509070991018\", \"pos\": 2, \"title\": \"Lokys\", \"rating\": 4.5, \"address\": '\n",
      " '\"Lithuanian\", \"rating_count\": 0}, {\"cid\": \"7630589473191639738\", \"pos\": 3, '\n",
      " '\"title\": \"Senoji trobel\\\\u0117\", \"rating\": 4.4, \"address\": \"Lithuanian\", '\n",
      " '\"rating_count\": 0}], \"pos_overall\": 5}, \"related_searches\": {\"pos_overall\": '\n",
      " '6, \"related_searches\": [\"Best restaurants in Vilnius old town\", \"Unique '\n",
      " 'places to eat in Vilnius\", \"Best visit restaurants in vilnius\", \"Best '\n",
      " 'Lithuanian restaurants in Vilnius\", \"Vilnius restaurants Michelin\", '\n",
      " '\"Restaurants Vilnius old Town\", \"Fine dining Vilnius\", \"Tripadvisor Vilnius '\n",
      " 'Restaurants\"]}, \"search_information\": {\"query\": \"Visit restaurants in '\n",
      " 'Vilnius.\", \"geo_location\": \"United States\", \"showing_results_for\": \"Visit '\n",
      " 'restaurants in Vilnius.\", \"total_results_count\": 1180000}, '\n",
      " '\"total_results_count\": 1180000}]')\n"
     ]
    }
   ],
   "execution_count": 7
  },
  {
   "metadata": {},
   "cell_type": "markdown",
   "source": "## Chaining",
   "id": "a436fc39ce17b6da"
  },
  {
   "metadata": {
    "ExecuteTime": {
     "end_time": "2024-11-03T16:18:22.398866Z",
     "start_time": "2024-11-03T16:18:20.661590Z"
    }
   },
   "cell_type": "code",
   "source": [
    "# Install the required libraries\n",
    "%pip install --upgrade --quiet langchain langchain-openai langchainhub langchain-community"
   ],
   "id": "a6f23e65092e8d27",
   "outputs": [
    {
     "name": "stdout",
     "output_type": "stream",
     "text": [
      "\r\n",
      "\u001B[1m[\u001B[0m\u001B[34;49mnotice\u001B[0m\u001B[1;39;49m]\u001B[0m\u001B[39;49m A new release of pip is available: \u001B[0m\u001B[31;49m23.2.1\u001B[0m\u001B[39;49m -> \u001B[0m\u001B[32;49m24.3.1\u001B[0m\r\n",
      "\u001B[1m[\u001B[0m\u001B[34;49mnotice\u001B[0m\u001B[1;39;49m]\u001B[0m\u001B[39;49m To update, run: \u001B[0m\u001B[32;49mpip install --upgrade pip\u001B[0m\r\n",
      "Note: you may need to restart the kernel to use updated packages.\n"
     ]
    }
   ],
   "execution_count": 19
  },
  {
   "metadata": {
    "ExecuteTime": {
     "end_time": "2024-11-03T19:05:25.216719Z",
     "start_time": "2024-11-03T19:04:56.424019Z"
    }
   },
   "cell_type": "code",
   "source": [
    "import getpass\n",
    "import os\n",
    "\n",
    "from langchain import hub\n",
    "from langchain.agents import AgentExecutor, create_tool_calling_agent\n",
    "from langchain_openai import ChatOpenAI\n",
    "\n",
    "# Set up OpenAI API credentials\n",
    "os.environ[\"OPENAI_API_KEY\"] = getpass.getpass(\"Enter your OpenAI API key: \")\n",
    "\n",
    "# Define assistant instructions and pull a base prompt template\n",
    "instructions = \"\"\"You are an assistant.\"\"\"\n",
    "base_prompt = hub.pull(\"langchain-ai/openai-functions-template\")\n",
    "prompt = base_prompt.partial(instructions=instructions)\n",
    "\n",
    "# Initialize OpenAI chat model\n",
    "llm = ChatOpenAI(openai_api_key=os.environ[\"OPENAI_API_KEY\"])\n",
    "\n",
    "# Define tools and agent setup\n",
    "tool_ = OxylabsSearchResults(wrapper=oxylabs_wrapper)\n",
    "tools_ = [tool_]\n",
    "agent = create_tool_calling_agent(llm, tools_, prompt)\n",
    "\n",
    "# Set up and invoke the agent executor\n",
    "agent_executor = AgentExecutor(\n",
    "    agent=agent,\n",
    "    tools=tools_,\n",
    "    verbose=True,\n",
    ")\n",
    "agent_executor.invoke({\"input\": \"What happened in the latest Burning Man floods?\"})"
   ],
   "id": "21078a0c265759ff",
   "outputs": [
    {
     "name": "stderr",
     "output_type": "stream",
     "text": [
      "/home/ausra/Data/AMV-workspace/projects_review/Oxylabs/langchain-project/.venv/lib/python3.11/site-packages/langsmith/client.py:354: LangSmithMissingAPIKeyWarning: API key must be provided when using hosted LangSmith API\n",
      "  warnings.warn(\n"
     ]
    },
    {
     "name": "stdout",
     "output_type": "stream",
     "text": [
      "\n",
      "\n",
      "\u001B[1m> Entering new AgentExecutor chain...\u001B[0m\n"
     ]
    },
    {
     "name": "stderr",
     "output_type": "stream",
     "text": [
      "INFO:httpx:HTTP Request: POST https://api.openai.com/v1/chat/completions \"HTTP/1.1 200 OK\"\n"
     ]
    },
    {
     "name": "stdout",
     "output_type": "stream",
     "text": [
      "\u001B[32;1m\u001B[1;3m\n",
      "Invoking: `oxylabs_search_results` with `{'query': 'latest Burning Man floods news'}`\n",
      "\n",
      "\n",
      "\u001B[0m\u001B[36;1m\u001B[1;3m[{\"paid\": [], \"videos\": {\"items\": [{\"pos\": 1, \"url\": \"https://www.youtube.com/watch?v=a1xBz6g1Kc8\", \"title\": \"Thousands leaving Burning Man festival after flooding from ...\", \"author\": \"YouTube\"}, {\"pos\": 2, \"url\": \"https://www.youtube.com/watch?v=SyoLFsB0qxc\", \"title\": \"Burning Man flooding leaves thousands isolated for days\", \"author\": \"YouTube\"}, {\"pos\": 3, \"url\": \"https://www.youtube.com/watch?v=-CPGsjvAOUs\", \"title\": \"Burning Man festival: 70,000 attendees stranded and one ...\", \"author\": \"YouTube\"}], \"pos_overall\": 1}, \"organic\": [{\"pos\": 1, \"url\": \"https://abcnews.go.com/US/burning-man-flooding-happened-stranded-festivalgoers/story?id=102908331\", \"desc\": \"Sep 4, 2023 \\u2014 Tens of thousands of Burning Man attendees are now able to leave the festival after a downpour and massive flooding left them stranded over the weekend.\", \"title\": \"Burning Man flooding: What happened to stranded ...\", \"url_shown\": \"https://abcnews.go.com\", \"pos_overall\": 2, \"favicon_text\": \"ABC News - Breaking News, Latest News and Videos\"}, {\"pos\": 2, \"url\": \"https://www.outsideonline.com/outdoor-adventure/exploration-survival/burning-man-2023-flooding-rain/\", \"desc\": \"Sep 6, 2023 \\u2014 When storms left Burning Man 2023 a muddy mess, attendees plotted their way out.\", \"title\": \"How One Man Escaped From Burning Man 2023's Floods\", \"url_shown\": \"https://www.outsideonline.com\", \"pos_overall\": 3, \"favicon_text\": \"Outside Magazine\"}, {\"pos\": 3, \"url\": \"https://www.foxweather.com/weather-news/burning-man-festivalgoers-experience-travel-issues-black-rock-city-nevada-rain\", \"desc\": \"Aug 24, 2024 \\u2014 Monsoon rains on Friday and over the weekend caused flash flooding at Burning Man, turning the usually dry, desert landscape of the festival\\u00a0...\", \"title\": \"Travel to Burning Man delayed due to thunderstorms\", \"url_shown\": \"https://www.foxweather.com\", \"pos_overall\": 4, \"favicon_text\": \"FOX Weather\"}, {\"pos\": 4, \"url\": \"https://www.nbcnews.com/news/us-news/live-blog/live-updates-burning-man-flooding-keeps-thousands-stranded-nevada-site-rcna103193\", \"desc\": \"Sep 4, 2023 \\u2014 Burning Man flooding keeps thousands stranded at Nevada site as authorities investigate 1 death. Attendees at the countercultural music and arts\\u00a0...\", \"title\": \"Burning Man flooding keeps thousands stranded at ...\", \"url_shown\": \"https://www.nbcnews.com\", \"pos_overall\": 5, \"favicon_text\": \"NBC News\"}], \"related_searches\": {\"pos_overall\": 6, \"related_searches\": [\"Latest burning man floods news today\", \"Latest burning man floods news nevada\", \"Burning Man 2023 Flood pictures\", \"Burning Man 2023 flood death\", \"Burning Man flood 2024\", \"Flooded Festival 2024\", \"Burning Man 2024\", \"Burning Man tickets\"]}, \"search_information\": {\"query\": \"latest Burning Man floods news\", \"geo_location\": \"United States\", \"showing_results_for\": \"latest Burning Man floods news\", \"total_results_count\": 32900000}, \"total_results_count\": 32900000}]\u001B[0m"
     ]
    },
    {
     "name": "stderr",
     "output_type": "stream",
     "text": [
      "INFO:httpx:HTTP Request: POST https://api.openai.com/v1/chat/completions \"HTTP/1.1 200 OK\"\n"
     ]
    },
    {
     "name": "stdout",
     "output_type": "stream",
     "text": [
      "\u001B[32;1m\u001B[1;3mIn the latest Burning Man floods, tens of thousands of Burning Man attendees were stranded after a downpour and massive flooding. The attendees were finally able to leave the festival after being stranded over the weekend. You can find more details on [ABC News](https://abcnews.go.com/US/burning-man-flooding-happened-stranded-festivalgoers/story?id=102908331) and [Outside Magazine](https://www.outsideonline.com/outdoor-adventure/exploration-survival/burning-man-2023-flooding-rain/).\u001B[0m\n",
      "\n",
      "\u001B[1m> Finished chain.\u001B[0m\n"
     ]
    },
    {
     "data": {
      "text/plain": [
       "{'input': 'What happened in the latest Burning Man floods?',\n",
       " 'output': 'In the latest Burning Man floods, tens of thousands of Burning Man attendees were stranded after a downpour and massive flooding. The attendees were finally able to leave the festival after being stranded over the weekend. You can find more details on [ABC News](https://abcnews.go.com/US/burning-man-flooding-happened-stranded-festivalgoers/story?id=102908331) and [Outside Magazine](https://www.outsideonline.com/outdoor-adventure/exploration-survival/burning-man-2023-flooding-rain/).'}"
      ]
     },
     "execution_count": 10,
     "metadata": {},
     "output_type": "execute_result"
    }
   ],
   "execution_count": 10
  },
  {
   "metadata": {
    "ExecuteTime": {
     "end_time": "2024-11-03T19:05:34.859010Z",
     "start_time": "2024-11-03T19:05:25.226282Z"
    }
   },
   "cell_type": "code",
   "source": [
    "agent_executor.invoke(\n",
    "    {\"input\": \"What is the most profitable company in lithuania in 2024?\"}\n",
    ")"
   ],
   "id": "41870f403b9a7a8d",
   "outputs": [
    {
     "name": "stdout",
     "output_type": "stream",
     "text": [
      "\n",
      "\n",
      "\u001B[1m> Entering new AgentExecutor chain...\u001B[0m\n"
     ]
    },
    {
     "name": "stderr",
     "output_type": "stream",
     "text": [
      "INFO:httpx:HTTP Request: POST https://api.openai.com/v1/chat/completions \"HTTP/1.1 200 OK\"\n"
     ]
    },
    {
     "name": "stdout",
     "output_type": "stream",
     "text": [
      "\u001B[32;1m\u001B[1;3m\n",
      "Invoking: `oxylabs_search_results` with `{'query': 'most profitable company in Lithuania 2024'}`\n",
      "\n",
      "\n",
      "\u001B[0m\u001B[36;1m\u001B[1;3m[{\"paid\": [], \"organic\": [{\"pos\": 1, \"url\": \"https://ceoworld.biz/2024/02/19/lithuanias-largest-companies-by-market-capitalization-2024/\", \"desc\": \"Feb 19, 2024 \\u2014 As of October 24, 2024, AB IGNITIS GRUPE is the most valuable company in Lithuania, with a market cap of $1.51 billion. Following it are TELIA\\u00a0...\", \"title\": \"Lithuania's Largest Companies by market capitalization, ...\", \"url_shown\": \"https://ceoworld.biz\\u203a Latest \\u203a Banking and Finance\", \"pos_overall\": 1, \"favicon_text\": \"CEOWORLD magazine\"}, {\"pos\": 2, \"url\": \"https://lithuania.lt/news/business-and-innovations-in-lithuania/which-startups-will-be-making-waves-in-lithuania-in-2024/\", \"desc\": \"Jan 23, 2024 \\u2014 Which startups will be making waves in Lithuania in 2024? \\u00b7 1. Cast AI: \\u00b7 2. Amlyze: \\u00b7 3. Vinted Go: \\u00b7 4. PV Case: \\u00b7 5. Atrandi Biosciences: \\u00b7 6.\", \"title\": \"Which startups will be making waves in Lithuania in 2024?\", \"url_shown\": \"https://lithuania.lt\\u203a News\", \"pos_overall\": 2, \"favicon_text\": \"lithuania.lt\"}, {\"pos\": 3, \"url\": \"https://www.eu-startups.com/2024/02/10-promising-lithuanian-startups-you-should-keep-an-eye-on-in-2024/\", \"desc\": \"Feb 13, 2024 \\u2014 Founded in 2021, the company has already surpassed the 2 million sales mark in 2023 and is profitable. Pulsetto raised \\u20ac500k in total funding.\", \"title\": \"10 promising Lithuanian startups you should keep an eye ...\", \"url_shown\": \"https://www.eu-startups.com\\u203a Lithuania-Startups\", \"pos_overall\": 3, \"favicon_text\": \"EU-Startups\"}, {\"pos\": 4, \"url\": \"https://www.f6s.com/companies/lithuania/lo\", \"desc\": \"Oct 24, 2024 \\u2014 Detailed info and reviews on 100 top companies and startups in Lithuania in 2024. Get the latest updates on their products, jobs, funding,\\u00a0...\", \"title\": \"100 top Companies and Startups in Lithuania in October ...\", \"url_shown\": \"https://www.f6s.com\\u203a companies \\u203a lithuania\", \"pos_overall\": 4, \"favicon_text\": \"F6S\"}, {\"pos\": 5, \"url\": \"https://www.failory.com/startups/lithuania\", \"desc\": \"Here's an extensive list with the 76 best startups in Lithuania and their main information.\", \"title\": \"Top 76 Startups in Lithuania in 2024\", \"url_shown\": \"https://www.failory.com\\u203a startups \\u203a lithuania\", \"pos_overall\": 5, \"favicon_text\": \"Failory\"}], \"related_searches\": {\"pos_overall\": 6, \"related_searches\": [\"Top 10 most profitable company in lithuania 2024\", \"Top 20 most profitable company in lithuania 2024\", \"International companies in Lithuania\", \"Lithuania company list\", \"IT companies in Lithuania\", \"Best employers in Lithuania\", \"Industries in Lithuania\", \"Lithuania GDP 2024\"]}, \"search_information\": {\"query\": \"most profitable company in Lithuania 2024\", \"geo_location\": \"United States\", \"showing_results_for\": \"most profitable company in Lithuania 2024\", \"total_results_count\": 51800000}, \"total_results_count\": 51800000}]\u001B[0m"
     ]
    },
    {
     "name": "stderr",
     "output_type": "stream",
     "text": [
      "INFO:httpx:HTTP Request: POST https://api.openai.com/v1/chat/completions \"HTTP/1.1 200 OK\"\n"
     ]
    },
    {
     "name": "stdout",
     "output_type": "stream",
     "text": [
      "\u001B[32;1m\u001B[1;3mThe most profitable company in Lithuania in 2024 is AB IGNITIS GRUPE, with a market capitalization of $1.51 billion as of October 24, 2024.\u001B[0m\n",
      "\n",
      "\u001B[1m> Finished chain.\u001B[0m\n"
     ]
    },
    {
     "data": {
      "text/plain": [
       "{'input': 'What is the most profitable company in lithuania in 2024?',\n",
       " 'output': 'The most profitable company in Lithuania in 2024 is AB IGNITIS GRUPE, with a market capitalization of $1.51 billion as of October 24, 2024.'}"
      ]
     },
     "execution_count": 11,
     "metadata": {},
     "output_type": "execute_result"
    }
   ],
   "execution_count": 11
  },
  {
   "metadata": {},
   "cell_type": "markdown",
   "source": "## API reference",
   "id": "832feec8cca13c4b"
  },
  {
   "metadata": {},
   "cell_type": "markdown",
   "source": [
    "\n",
    "For detailed documentation of all OxylabsSearchResults features and configurations head to the API reference: \n",
    "https://python.langchain.com/api_reference/community/tools/langchain_community.tools.oxylabs_search.tool.OxylabsSearchResult.html"
   ],
   "id": "ced3716cae79f6a9"
  }
 ],
 "metadata": {
  "kernelspec": {
   "display_name": "Python 3",
   "language": "python",
   "name": "python3"
  },
  "language_info": {
   "codemirror_mode": {
    "name": "ipython",
    "version": 2
   },
   "file_extension": ".py",
   "mimetype": "text/x-python",
   "name": "python",
   "nbconvert_exporter": "python",
   "pygments_lexer": "ipython2",
   "version": "2.7.6"
  }
 },
 "nbformat": 4,
 "nbformat_minor": 5
}
