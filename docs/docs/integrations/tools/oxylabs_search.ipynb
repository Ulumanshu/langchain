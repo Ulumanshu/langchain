{
 "cells": [
  {
   "metadata": {},
   "cell_type": "markdown",
   "source": [
    "# Oxylabs Search\n",
    "## Overview\n",
    "\n",
    "This notebook goes over how to use the Oxylabs search component."
   ],
   "id": "3d5f69fd9e33e94b"
  },
  {
   "metadata": {},
   "cell_type": "markdown",
   "source": [
    "First, you need to set up the proper API keys and environment variables. Create your API user credentials: Sign up for a free trial or purchase the product in the [Oxylabs dashboard](https://dashboard.oxylabs.io/en/registration) to create your API user credentials (OXYLABS_USERNAME and OXYLABS_PASSWORD).\n",
    "\n"
   ],
   "id": "6e47e671c4f74ce"
  },
  {
   "metadata": {},
   "cell_type": "markdown",
   "source": [
    "## Instantiation\n",
    "The integration lives in the `langchain-community` package."
   ],
   "id": "82bbaa87ac460aa5"
  },
  {
   "metadata": {},
   "cell_type": "code",
   "source": "# %pip install -U langchain-community oxylabs",
   "id": "45725b32dba053a4",
   "outputs": [],
   "execution_count": null
  },
  {
   "metadata": {},
   "cell_type": "code",
   "source": [
    "import getpass\n",
    "import os\n",
    "from pprint import pprint\n",
    "\n",
    "os.environ[\"OXYLABS_USERNAME\"] = getpass.getpass()\n",
    "os.environ[\"OXYLABS_PASSWORD\"] = getpass.getpass()"
   ],
   "id": "1e1d19549dd4e0c3",
   "outputs": [],
   "execution_count": null
  },
  {
   "metadata": {},
   "cell_type": "markdown",
   "source": [
    "## Invocation\n",
    "#### Basic usage"
   ],
   "id": "c8f2956a18766eef"
  },
  {
   "metadata": {},
   "cell_type": "code",
   "source": [
    "from langchain_community.utilities import OxylabsSearchAPIWrapper\n",
    "\n",
    "search = OxylabsSearchAPIWrapper()"
   ],
   "id": "e889620c5268d8ec",
   "outputs": [],
   "execution_count": null
  },
  {
   "metadata": {},
   "cell_type": "code",
   "source": "pprint(search.run(\"Python Programming Language\"))",
   "id": "b2658ee89b0cbb38",
   "outputs": [],
   "execution_count": null
  },
  {
   "metadata": {},
   "cell_type": "markdown",
   "source": [
    "#### Number of results\n",
    "You may use the parameters `start_page`, `pages` and `limit` to specify the number of results. The default values are:  \n",
    "    * `start_page = 1`  \n",
    "    * `pages = 1`  \n",
    "    * `limit = 5`  "
   ],
   "id": "55b0e63df6555752"
  },
  {
   "metadata": {},
   "cell_type": "code",
   "source": [
    "search = OxylabsSearchAPIWrapper(\n",
    "    params={\n",
    "        \"start_page\": 1,\n",
    "        \"pages\": 2,\n",
    "        \"limit\": 10\n",
    "    }\n",
    ")\n"
   ],
   "id": "391f6780098fea6c",
   "outputs": [],
   "execution_count": null
  },
  {
   "metadata": {},
   "cell_type": "code",
   "source": "pprint(search.run(\"Python Programming Language\"))",
   "id": "47bab89af8270448",
   "outputs": [],
   "execution_count": null
  },
  {
   "metadata": {},
   "cell_type": "markdown",
   "source": [
    "#### Image Content Display\n",
    "You may use the `include_binary_image_data` parameter to manage the display of binary image data. By default, this parameter is set to `False`, and the image data is replaced with the text \"Redacted base64 image string...\". "
   ],
   "id": "48bacc1f7eb55868"
  },
  {
   "metadata": {},
   "cell_type": "code",
   "source": [
    "search = OxylabsSearchAPIWrapper(\n",
    "    include_binary_image_data=True,\n",
    "    params={\n",
    "        \"start_page\": 1,\n",
    "        \"pages\": 2,\n",
    "        \"limit\": 10\n",
    "    }\n",
    ")\n",
    "pprint(search.run(\"Python Programming Language\"))"
   ],
   "id": "aad102f240ca1a6f",
   "outputs": [],
   "execution_count": null
  },
  {
   "metadata": {},
   "cell_type": "markdown",
   "source": [
    "#### Result Filtering / Ordering\n",
    "\n",
    "Default result group order :  \n",
    "* `knowledge_graph`  \n",
    "* `combined_search_result`  \n",
    "* `product_information`  \n",
    "* `local_information`  \n",
    "* `search_information`  \n",
    "  \n",
    "You may want to adjust the display order of result groups and exclude the `product_information`, `local_information`  and `combined_search_result` groups in cases where only abstract knowledge is needed. For example, this configuration allows tailored result presentation."
   ],
   "id": "4e0d0abc463007c4"
  },
  {
   "metadata": {},
   "cell_type": "code",
   "source": [
    "search = OxylabsSearchAPIWrapper(\n",
    "    params={\n",
    "        \"start_page\": 1,\n",
    "        \"pages\": 1,\n",
    "        \"limit\": 10,\n",
    "        \"geo_location\": \"Kairo,Egypt\",\n",
    "        \"result_categories\": [\n",
    "            \"search_information\",\n",
    "            \"knowledge_graph\",            \n",
    "        ]\n",
    "    }\n",
    ")\n",
    "pprint(search.run(\"Visiting Great Pyramid of Giza in Egypt\"), indent=4)\n"
   ],
   "id": "e8dee8ae8420ee23",
   "outputs": [],
   "execution_count": null
  },
  {
   "metadata": {},
   "cell_type": "markdown",
   "source": "You may want to adjust the display order of result groups and exclude abstract knowledge when focusing specifically on products and local services. In the following example reorders result groups to prioritise search information and local services, omitting abstract knowledge to enhance relevance for this context.",
   "id": "6518505bc88be72e"
  },
  {
   "metadata": {},
   "cell_type": "code",
   "source": [
    "search = OxylabsSearchAPIWrapper(\n",
    "    params={\n",
    "        \"start_page\": 1,\n",
    "        \"pages\": 5,\n",
    "        \"limit\": 15,\n",
    "        \"geo_location\": \"Belgium\",\n",
    "        \"result_categories\": [\n",
    "            \"search_information\",\n",
    "            \"local_information\",            \n",
    "        ]\n",
    "    }\n",
    ")\n",
    "pprint(search.run(\"Open Working Space in Belgium.\"))"
   ],
   "id": "e4aa15186baee4c0",
   "outputs": [],
   "execution_count": null
  },
  {
   "metadata": {},
   "cell_type": "markdown",
   "source": [
    "#### Raw Results\n",
    "\n",
    "The wrapper method `results()` returns all raw results in JSON format."
   ],
   "id": "6e584f4135e69d76"
  },
  {
   "metadata": {},
   "cell_type": "code",
   "source": "search = OxylabsSearchAPIWrapper()",
   "id": "e9805896a480b5d2",
   "outputs": [],
   "execution_count": null
  },
  {
   "metadata": {},
   "cell_type": "code",
   "source": "search.results(\"Python Programming Language\")",
   "id": "24cc3aeab4fb1c2b",
   "outputs": [],
   "execution_count": null
  },
  {
   "metadata": {},
   "cell_type": "markdown",
   "source": "### Invoke directly with args",
   "id": "272f5fdaed5fa000"
  },
  {
   "metadata": {},
   "cell_type": "code",
   "source": [
    "from langchain_community.tools.oxylabs_search import OxylabsSearchResults, OxylabsSearchRun\n",
    "from langchain_community.utilities import OxylabsSearchAPIWrapper\n",
    "\n",
    "api_wrapper = OxylabsSearchAPIWrapper()"
   ],
   "id": "a9230c57144cd15d",
   "outputs": [],
   "execution_count": null
  },
  {
   "metadata": {},
   "cell_type": "markdown",
   "source": "#### Tool `OxylabsSearchRun`",
   "id": "14f7884105ec18c5"
  },
  {
   "metadata": {},
   "cell_type": "code",
   "source": "tool_run = OxylabsSearchRun(wrapper=api_wrapper)",
   "id": "9bc1106aba801ec5",
   "outputs": [],
   "execution_count": null
  },
  {
   "metadata": {},
   "cell_type": "code",
   "source": [
    "response_run = tool_run.invoke({\n",
    "    \"query\": \"Visit restaurants in Vilnius.\",\n",
    "    \"geo_location\": \"Vilnius,Lithuania\",    \n",
    "})\n",
    "\n",
    "pprint(response_run)"
   ],
   "id": "c82fb184dc134bf9",
   "outputs": [],
   "execution_count": null
  },
  {
   "metadata": {},
   "cell_type": "code",
   "source": [
    "tool_run = OxylabsSearchRun(\n",
    "    wrapper=api_wrapper,\n",
    "    kwargs={\n",
    "        \"result_categories\": [\n",
    "            \"local_information\",  \n",
    "            \"combined_search_result\",\n",
    "        ]\n",
    "    }\n",
    ")"
   ],
   "id": "5bddf124be8f9945",
   "outputs": [],
   "execution_count": null
  },
  {
   "metadata": {},
   "cell_type": "code",
   "source": [
    "response_run = tool_run.invoke({\n",
    "    \"query\": \"Visit restaurants in Vilnius.\",\n",
    "    \"geo_location\": \"Vilnius,Lithuania\",    \n",
    "})\n",
    "\n",
    "pprint(response_run)"
   ],
   "id": "1b903fb2f8272df2",
   "outputs": [],
   "execution_count": null
  },
  {
   "metadata": {},
   "cell_type": "code",
   "source": "tool_results = OxylabsSearchResults(wrapper=api_wrapper)",
   "id": "f1b3fb107161ef02",
   "outputs": [],
   "execution_count": null
  },
  {
   "metadata": {},
   "cell_type": "code",
   "source": [
    "import json\n",
    "\n",
    "# .invoke wraps utility.results\n",
    "response_results = tool_results.invoke({\n",
    "    \"query\": \"What is the weather in Shanghai?\",\n",
    "    \"geo_location\": \"China\",  \n",
    "})\n",
    "response_results = json.loads(response_results)\n",
    "for item in response_results:\n",
    "    print(item)"
   ],
   "id": "6c8252ed4567d8b3",
   "outputs": [],
   "execution_count": null
  },
  {
   "metadata": {},
   "cell_type": "markdown",
   "source": "### Invoke with ToolCall",
   "id": "7d4d849ef8931438"
  },
  {
   "metadata": {},
   "cell_type": "code",
   "outputs": [],
   "execution_count": null,
   "source": "",
   "id": "c7d3597605e27ba1"
  },
  {
   "metadata": {},
   "cell_type": "markdown",
   "source": "## Chaining",
   "id": "a436fc39ce17b6da"
  },
  {
   "metadata": {},
   "cell_type": "code",
   "source": [
    "# Install the required libraries\n",
    "%pip install --upgrade --quiet langchain langchain-openai langchainhub langchain-community"
   ],
   "id": "a6f23e65092e8d27",
   "outputs": [],
   "execution_count": null
  },
  {
   "metadata": {},
   "cell_type": "code",
   "source": [
    "# Import necessary modules\n",
    "import getpass\n",
    "import os\n",
    "from langchain import hub\n",
    "from langchain.agents import AgentExecutor, create_tool_calling_agent\n",
    "from langchain_openai import ChatOpenAI  # Use OpenAIChat instead of AzureChatOpenAI\n",
    "\n",
    "# Set up OpenAI API credentials\n",
    "os.environ[\"OPENAI_API_KEY\"] = getpass.getpass(\"Enter your OpenAI API key: \")\n",
    "\n",
    "# Define assistant instructions and pull a base prompt template\n",
    "instructions = \"\"\"You are an assistant.\"\"\"\n",
    "base_prompt = hub.pull(\"langchain-ai/openai-functions-template\")\n",
    "prompt = base_prompt.partial(instructions=instructions)\n",
    "\n",
    "# Initialize OpenAI chat model\n",
    "llm = ChatOpenAI(\n",
    "    openai_api_key=os.environ[\"OPENAI_API_KEY\"]\n",
    ")\n",
    "\n",
    "# Define tools and agent setup\n",
    "tool = OxylabsSearchRun(wrapper=api_wrapper)\n",
    "tools = [tool]\n",
    "agent = create_tool_calling_agent(llm, tools, prompt)\n",
    "\n",
    "# Set up and invoke the agent executor\n",
    "agent_executor = AgentExecutor(\n",
    "    agent=agent,\n",
    "    tools=tools,\n",
    "    verbose=True,\n",
    ")\n",
    "agent_executor.invoke({\"input\": \"What happened in the latest Burning Man floods?\"})"
   ],
   "id": "21078a0c265759ff",
   "outputs": [],
   "execution_count": null
  },
  {
   "metadata": {},
   "cell_type": "code",
   "source": "agent_executor.invoke({\"input\": \"Who won latest 2024 Lithuanian elections and why, please make an politological analysis essay from search results.\"})",
   "id": "be62abbade21333f",
   "outputs": [],
   "execution_count": null
  },
  {
   "metadata": {},
   "cell_type": "code",
   "source": "agent_executor.invoke({\"input\": \"What is the most profitable company in lithuania in 2024?\"})",
   "id": "41870f403b9a7a8d",
   "outputs": [],
   "execution_count": null
  },
  {
   "metadata": {},
   "cell_type": "markdown",
   "source": "## API reference",
   "id": "832feec8cca13c4b"
  },
  {
   "metadata": {},
   "cell_type": "code",
   "source": "",
   "id": "466082f00b960dcd",
   "outputs": [],
   "execution_count": null
  }
 ],
 "metadata": {
  "kernelspec": {
   "display_name": "Python 3",
   "language": "python",
   "name": "python3"
  },
  "language_info": {
   "codemirror_mode": {
    "name": "ipython",
    "version": 2
   },
   "file_extension": ".py",
   "mimetype": "text/x-python",
   "name": "python",
   "nbconvert_exporter": "python",
   "pygments_lexer": "ipython2",
   "version": "2.7.6"
  }
 },
 "nbformat": 4,
 "nbformat_minor": 5
}
