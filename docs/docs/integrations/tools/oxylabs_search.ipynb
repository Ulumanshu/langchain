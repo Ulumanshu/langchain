{
 "cells": [
  {
   "metadata": {},
   "cell_type": "markdown",
   "source": "# Oxylabs Search\n",
   "id": "3d5f69fd9e33e94b"
  },
  {
   "metadata": {},
   "cell_type": "markdown",
   "source": [
    "This notebook goes over how to use the Oxylabs search component.\n",
    "\n",
    "First, you need to set up the proper API keys and environment variables. Create your API user credentials: Sign up for a free trial or purchase the product in the [Oxylabs dashboard](https://dashboard.oxylabs.io/en/registration) to create your API user credentials (OXYLABS_USERNAME and OXYLABS_PASSWORD).\n",
    "\n"
   ],
   "id": "6e47e671c4f74ce"
  },
  {
   "metadata": {},
   "cell_type": "markdown",
   "source": [
    "## Setup\n",
    "The integration lives in the `langchain-community` package."
   ],
   "id": "82bbaa87ac460aa5"
  },
  {
   "metadata": {
    "ExecuteTime": {
     "end_time": "2024-11-02T11:29:14.268639Z",
     "start_time": "2024-11-02T11:29:14.265167Z"
    }
   },
   "cell_type": "code",
   "source": "# %pip install -U langchain-community oxylabs",
   "id": "45725b32dba053a4",
   "outputs": [],
   "execution_count": 1
  },
  {
   "metadata": {
    "ExecuteTime": {
     "end_time": "2024-11-02T11:29:35.196795Z",
     "start_time": "2024-11-02T11:29:14.310877Z"
    }
   },
   "cell_type": "code",
   "source": [
    "import getpass\n",
    "import os\n",
    "from pprint import pprint\n",
    "\n",
    "os.environ[\"OXYLABS_USERNAME\"] = getpass.getpass()\n",
    "os.environ[\"OXYLABS_PASSWORD\"] = getpass.getpass()"
   ],
   "id": "1e1d19549dd4e0c3",
   "outputs": [],
   "execution_count": 2
  },
  {
   "metadata": {},
   "cell_type": "markdown",
   "source": "## Basic usage",
   "id": "c8f2956a18766eef"
  },
  {
   "metadata": {
    "ExecuteTime": {
     "end_time": "2024-11-02T11:29:35.875428Z",
     "start_time": "2024-11-02T11:29:35.393279Z"
    }
   },
   "cell_type": "code",
   "source": [
    "from langchain_community.utilities import OxylabsSearchAPIWrapper\n",
    "\n",
    "search = OxylabsSearchAPIWrapper()"
   ],
   "id": "e889620c5268d8ec",
   "outputs": [],
   "execution_count": 3
  },
  {
   "metadata": {
    "ExecuteTime": {
     "end_time": "2024-11-02T11:29:59.282923Z",
     "start_time": "2024-11-02T11:29:35.890131Z"
    }
   },
   "cell_type": "code",
   "source": "pprint(search.run(\"Python Programming Language\"))",
   "id": "b2658ee89b0cbb38",
   "outputs": [
    {
     "name": "stdout",
     "output_type": "stream",
     "text": [
      "('  KNOWLEDGE GRAPH: \\n'\n",
      " '  TITLE: Python\\n'\n",
      " '  IMAGES ITEMS: \\n'\n",
      " '    IMAGES-ITEM-1: Redacted base64 image string...\\n'\n",
      " '    IMAGES-ITEM-2: Redacted base64 image string...\\n'\n",
      " '    IMAGES-ITEM-3: Redacted base64 image string...\\n'\n",
      " '    IMAGES-ITEM-4: Redacted base64 image string...\\n'\n",
      " '    IMAGES-ITEM-5: Redacted base64 image string...\\n'\n",
      " '  FACTOIDS ITEMS: \\n'\n",
      " '    FACTOIDS-ITEM-1: \\n'\n",
      " '    LINKS ITEMS: \\n'\n",
      " '      LINKS-ITEM-1: \\n'\n",
      " '      HREF: '\n",
      " '/search?num=5&sca_esv=808c4f249ba0e78b&gl=us&hl=en&q=Guido+van+Rossum&stick=H4sIAAAAAAAAAONgVuLUz9U3MMwwME1exCrgXpqZkq9QlpinEJRfXFyaCwDpnKYPIAAAAA&sa=X&ved=2ahUKEwiD79n0xb2JAxXHd2wGHY51MFYQmxMoAHoECDEQAg\\n'\n",
      " '      TITLE: Guido van Rossum\\n'\n",
      " '    TITLE: Designed by\\n'\n",
      " '    CONTENT: Guido van Rossum\\n'\n",
      " '    FACTOIDS-ITEM-2: \\n'\n",
      " '    TITLE: Developer\\n'\n",
      " '    CONTENT: Python Software Foundation\\n'\n",
      " '    FACTOIDS-ITEM-3: \\n'\n",
      " '    TITLE: Filename extensions\\n'\n",
      " '    CONTENT: .py,.pyw,.pyz,.pyi,.pyc,.pyd\\n'\n",
      " '    FACTOIDS-ITEM-4: \\n'\n",
      " '    TITLE: First appeared\\n'\n",
      " '    CONTENT: 20 February 1991; 33 years ago\\n'\n",
      " '    FACTOIDS-ITEM-5: \\n'\n",
      " '    TITLE: Paradigm\\n'\n",
      " '    CONTENT: Multi-paradigm: object-oriented, procedural (imperative), '\n",
      " 'functional, structured, reflective\\n'\n",
      " '    FACTOIDS-ITEM-6: \\n'\n",
      " '    TITLE: Stable release\\n'\n",
      " '    CONTENT: 3.13.0 / 7 October 2024; 24 days ago\\n'\n",
      " '    FACTOIDS-ITEM-7: \\n'\n",
      " '    LINKS ITEMS: \\n'\n",
      " '      LINKS-ITEM-1: \\n'\n",
      " '      HREF: '\n",
      " '/search?num=5&sca_esv=808c4f249ba0e78b&gl=us&hl=en&q=strong&stick=H4sIAAAAAAAAAONgVuLWT9c3NDLIqEoqq1jEylZcUpSflw4An0l11RgAAAA&sa=X&ved=2ahUKEwiD79n0xb2JAxXHd2wGHY51MFYQmxMoAHoECCwQAg\\n'\n",
      " '      TITLE: strong\\n'\n",
      " '    TITLE: Typing discipline\\n'\n",
      " '    CONTENT: duck, dynamic, strong; optional type annotations (since 3.5, '\n",
      " 'but those hints are ignored, except with unofficial tools)\\n'\n",
      " '  SUBTITLE: High-level programming language\\n'\n",
      " '  DESCRIPTION: DescriptionPython is a high-level, general-purpose '\n",
      " 'programming language. Its design philosophy emphasizes code readability with '\n",
      " 'the use of significant indentation.\\n'\n",
      " 'Python is dynamically typed and garbage-collected. It supports multiple '\n",
      " 'programming paradigms, including structured, object-oriented and functional '\n",
      " 'programming. Wikipedia\\n'\n",
      " '\\n'\n",
      " '  ORGANIC RESULTS ITEMS: \\n'\n",
      " '    ORGANIC-ITEM-1: \\n'\n",
      " '    POS: 1\\n'\n",
      " '    URL: https://www.python.org/\\n'\n",
      " '    DESC: The official home of the Python Programming Language.\\n'\n",
      " '    TITLE: Welcome to Python.org\\n'\n",
      " '    SITELINKS: \\n'\n",
      " '      SITELINKS: \\n'\n",
      " '      EXPANDED ITEMS: \\n'\n",
      " '        EXPANDED-ITEM-1: \\n'\n",
      " '        URL: https://www.python.org/about/gettingstarted/\\n'\n",
      " '        TITLE: Python For Beginners\\n'\n",
      " '        EXPANDED-ITEM-2: \\n'\n",
      " '        URL: https://docs.python.org/3/tutorial/\\n'\n",
      " '        TITLE: The Python Tutorial\\n'\n",
      " '        EXPANDED-ITEM-3: \\n'\n",
      " '        URL: https://www.python.org/downloads/\\n'\n",
      " '        TITLE: Downloads\\n'\n",
      " '        EXPANDED-ITEM-4: \\n'\n",
      " '        URL: https://www.python.org/about/\\n'\n",
      " '        TITLE: About\\n'\n",
      " '        EXPANDED-ITEM-5: \\n'\n",
      " '        URL: https://www.python.org/downloads/windows/\\n'\n",
      " '        TITLE: Python Releases for Windows\\n'\n",
      " '    URL_SHOWN: https://www.python.org\\n'\n",
      " '    FAVICON_TEXT: Python.org\\n'\n",
      " '    ORGANIC-ITEM-2: \\n'\n",
      " '    POS: 2\\n'\n",
      " '    URL: https://en.wikipedia.org/wiki/Python_(programming_language)\\n'\n",
      " '    DESC: Python is a high-level, general-purpose programming language. Its '\n",
      " 'design philosophy emphasizes code readability with the use of significant '\n",
      " 'indentation.\\n'\n",
      " '    TITLE: Python (programming language)\\n'\n",
      " '    SITELINKS: \\n'\n",
      " '      SITELINKS: \\n'\n",
      " '      INLINE ITEMS: \\n'\n",
      " '        INLINE-ITEM-1: \\n'\n",
      " '        URL: https://en.wikipedia.org/wiki/ABC_(programming_language)\\n'\n",
      " '        TITLE: ABC (programming language)\\n'\n",
      " '        INLINE-ITEM-2: \\n'\n",
      " '        URL: https://en.wikipedia.org/wiki/Cobra_(programming_language)\\n'\n",
      " '        TITLE: Cobra (programming language)\\n'\n",
      " '        INLINE-ITEM-3: \\n'\n",
      " '        URL: https://en.wikipedia.org/wiki/History_of_Python\\n'\n",
      " '        TITLE: History of Python\\n'\n",
      " '    URL_SHOWN: https://en.wikipedia.org› wiki › Python_(programming...\\n'\n",
      " '    FAVICON_TEXT: Wikipedia\\n'\n",
      " '\\n'\n",
      " '  SEARCH INFORMATION: \\n'\n",
      " '  QUERY: Python Programming Language\\n'\n",
      " '  GEO_LOCATION: United States\\n'\n",
      " '  SHOWING_RESULTS_FOR: Python Programming Language\\n'\n",
      " '  TOTAL_RESULTS_COUNT: 328000000\\n'\n",
      " '\\n'\n",
      " '  RELATED SEARCHES: \\n'\n",
      " '  RELATED_SEARCHES ITEMS: \\n'\n",
      " '    RELATED_SEARCHES-ITEM-1: Python programming examples\\n'\n",
      " '    RELATED_SEARCHES-ITEM-2: Python download\\n'\n",
      " '    RELATED_SEARCHES-ITEM-3: Python online\\n'\n",
      " '    RELATED_SEARCHES-ITEM-4: What is Python used for\\n'\n",
      " '    RELATED_SEARCHES-ITEM-5: In which year was the Python language '\n",
      " 'developed\\n'\n",
      " '    RELATED_SEARCHES-ITEM-6: Features of Python\\n'\n",
      " '    RELATED_SEARCHES-ITEM-7: W3Schools Python\\n'\n",
      " '    RELATED_SEARCHES-ITEM-8: Which type of programming does Python support')\n"
     ]
    }
   ],
   "execution_count": 4
  },
  {
   "metadata": {},
   "cell_type": "markdown",
   "source": [
    "## Number of results\n",
    "You may use the parameters `start_page`, `pages` and `limit` to specify the number of results. The default values are:  \n",
    "    * `start_page = 1`  \n",
    "    * `pages = 1`  \n",
    "    * `limit = 5`  "
   ],
   "id": "55b0e63df6555752"
  },
  {
   "metadata": {
    "ExecuteTime": {
     "end_time": "2024-11-02T11:29:59.338081Z",
     "start_time": "2024-11-02T11:29:59.334400Z"
    }
   },
   "cell_type": "code",
   "source": [
    "search = OxylabsSearchAPIWrapper(\n",
    "    params={\n",
    "        \"start_page\": 1,\n",
    "        \"pages\": 2,\n",
    "        \"limit\": 10\n",
    "    }\n",
    ")\n"
   ],
   "id": "391f6780098fea6c",
   "outputs": [],
   "execution_count": 5
  },
  {
   "metadata": {
    "jupyter": {
     "is_executing": true
    },
    "ExecuteTime": {
     "start_time": "2024-11-02T11:29:59.380981Z"
    }
   },
   "cell_type": "code",
   "source": "pprint(search.run(\"Python Programming Language\"))",
   "id": "47bab89af8270448",
   "outputs": [],
   "execution_count": null
  },
  {
   "metadata": {},
   "cell_type": "markdown",
   "source": [
    "## Result Filtering / Ordering\n",
    "\n",
    "### Default result group order :  \n",
    "* `knowledge_graph`  \n",
    "* `combined_search_result`  \n",
    "* `product_information`  \n",
    "* `local_information`  \n",
    "* `search_information`  \n",
    "  \n",
    "You may want to adjust the display order of result groups and exclude the `product_information`, `local_information`  and `combined_search_result` groups in cases where only abstract knowledge is needed. For example, this configuration allows tailored result presentation."
   ],
   "id": "4e0d0abc463007c4"
  },
  {
   "metadata": {},
   "cell_type": "code",
   "source": [
    "search = OxylabsSearchAPIWrapper(\n",
    "    params={\n",
    "        \"start_page\": 1,\n",
    "        \"pages\": 1,\n",
    "        \"limit\": 10,\n",
    "        \"geo_location\": \"Kairo,Egypt\",\n",
    "        \"result_categories\": [\n",
    "            \"search_information\",\n",
    "            \"knowledge_graph\",            \n",
    "        ]\n",
    "    }\n",
    ")\n",
    "pprint(search.run(\"Visiting Great Pyramid of Giza in Egypt\"), indent=4)\n"
   ],
   "id": "e8dee8ae8420ee23",
   "outputs": [],
   "execution_count": null
  },
  {
   "metadata": {},
   "cell_type": "markdown",
   "source": "You may want to adjust the display order of result groups and exclude abstract knowledge when focusing specifically on products and local services. In the following example reorders result groups to prioritise search information and local services, omitting abstract knowledge to enhance relevance for this context.",
   "id": "6518505bc88be72e"
  },
  {
   "metadata": {},
   "cell_type": "code",
   "source": [
    "search = OxylabsSearchAPIWrapper(\n",
    "    params={\n",
    "        \"start_page\": 1,\n",
    "        \"pages\": 5,\n",
    "        \"limit\": 15,\n",
    "        \"geo_location\": \"Belgium\",\n",
    "        \"result_categories\": [\n",
    "            \"search_information\",\n",
    "            \"local_information\",            \n",
    "        ]\n",
    "    }\n",
    ")\n",
    "pprint(search.run(\"Open Working Space in Belgium.\"))"
   ],
   "id": "e4aa15186baee4c0",
   "outputs": [],
   "execution_count": null
  },
  {
   "metadata": {},
   "cell_type": "markdown",
   "source": "## Raw Results",
   "id": "6e584f4135e69d76"
  },
  {
   "metadata": {},
   "cell_type": "code",
   "source": "search = OxylabsSearchAPIWrapper()",
   "id": "e9805896a480b5d2",
   "outputs": [],
   "execution_count": null
  },
  {
   "metadata": {},
   "cell_type": "code",
   "source": "search.results(\"apples\")",
   "id": "24cc3aeab4fb1c2b",
   "outputs": [],
   "execution_count": null
  },
  {
   "metadata": {},
   "cell_type": "markdown",
   "source": "## Tool Usage",
   "id": "272f5fdaed5fa000"
  },
  {
   "metadata": {},
   "cell_type": "code",
   "source": [
    "import os\n",
    "\n",
    "from langchain_community.tools.oxylabs_search import OxylabsSearchResults, OxylabsSearchRun\n",
    "from langchain_community.utilities import OxylabsSearchAPIWrapper\n",
    "\n",
    "api_wrapper = OxylabsSearchAPIWrapper()\n"
   ],
   "id": "a9230c57144cd15d",
   "outputs": [],
   "execution_count": null
  },
  {
   "metadata": {},
   "cell_type": "code",
   "source": [
    "tool_results = OxylabsSearchResults(wrapper=api_wrapper)\n",
    "tool_results"
   ],
   "id": "57a786b837945d57",
   "outputs": [],
   "execution_count": null
  },
  {
   "metadata": {},
   "cell_type": "code",
   "source": [
    "tool_run = OxylabsSearchRun(wrapper=api_wrapper)\n",
    "tool_run"
   ],
   "id": "9bc1106aba801ec5",
   "outputs": [],
   "execution_count": null
  },
  {
   "metadata": {},
   "cell_type": "code",
   "source": [
    "import json\n",
    "\n",
    "# .invoke wraps utility.results\n",
    "response_results = tool_results.invoke({\n",
    "    \"query\": \"What is the weather in Shanghai?\",\n",
    "    \"geo_location\": \"China\",  \n",
    "})\n",
    "response_results = json.loads(response_results)\n",
    "for item in response_results:\n",
    "    print(item)"
   ],
   "id": "1b903fb2f8272df2",
   "outputs": [],
   "execution_count": null
  },
  {
   "metadata": {},
   "cell_type": "code",
   "source": [
    "# .invoke wraps utility.results\n",
    "response_run = tool_run.invoke({\n",
    "    \"query\": \"What is the weather in Shanghai?\",\n",
    "    \"geo_location\": \"China\",    \n",
    "})\n",
    "\n",
    "pprint(response_run)"
   ],
   "id": "825a0798cb5be58d",
   "outputs": [],
   "execution_count": null
  },
  {
   "metadata": {},
   "cell_type": "markdown",
   "source": "# Chaining",
   "id": "a436fc39ce17b6da"
  },
  {
   "metadata": {},
   "cell_type": "code",
   "source": [
    "# Install the required libraries\n",
    "%pip install --upgrade --quiet langchain langchain-openai langchainhub langchain-community"
   ],
   "id": "a6f23e65092e8d27",
   "outputs": [],
   "execution_count": null
  },
  {
   "metadata": {},
   "cell_type": "code",
   "source": [
    "# Import necessary modules\n",
    "import getpass\n",
    "import os\n",
    "from langchain import hub\n",
    "from langchain.agents import AgentExecutor, create_tool_calling_agent\n",
    "from langchain_openai import ChatOpenAI  # Use OpenAIChat instead of AzureChatOpenAI\n",
    "\n",
    "# Set up OpenAI API credentials\n",
    "os.environ[\"OPENAI_API_KEY\"] = getpass.getpass(\"Enter your OpenAI API key: \")\n",
    "\n",
    "# Define assistant instructions and pull a base prompt template\n",
    "instructions = \"\"\"You are an assistant.\"\"\"\n",
    "base_prompt = hub.pull(\"langchain-ai/openai-functions-template\")\n",
    "prompt = base_prompt.partial(instructions=instructions)\n",
    "\n",
    "# Initialize OpenAI chat model\n",
    "llm = ChatOpenAI(\n",
    "    openai_api_key=os.environ[\"OPENAI_API_KEY\"]\n",
    ")\n",
    "\n",
    "# Define tools and agent setup\n",
    "tool = OxylabsSearchRun(wrapper=api_wrapper)\n",
    "tools = [tool]\n",
    "agent = create_tool_calling_agent(llm, tools, prompt)\n",
    "\n",
    "# Set up and invoke the agent executor\n",
    "agent_executor = AgentExecutor(\n",
    "    agent=agent,\n",
    "    tools=tools,\n",
    "    verbose=True,\n",
    ")\n",
    "agent_executor.invoke({\"input\": \"What happened in the latest Burning Man floods?\"})"
   ],
   "id": "21078a0c265759ff",
   "outputs": [],
   "execution_count": null
  },
  {
   "metadata": {},
   "cell_type": "code",
   "source": "agent_executor.invoke({\"input\": \"Who won latest 2024 Lithuanian elections and why, please make an politological analysis essay from search results.\"})",
   "id": "be62abbade21333f",
   "outputs": [],
   "execution_count": null
  },
  {
   "metadata": {},
   "cell_type": "code",
   "source": "agent_executor.invoke({\"input\": \"What is the most profitable company in lithuania in 2024?\"})",
   "id": "41870f403b9a7a8d",
   "outputs": [],
   "execution_count": null
  }
 ],
 "metadata": {
  "kernelspec": {
   "display_name": "Python 3",
   "language": "python",
   "name": "python3"
  },
  "language_info": {
   "codemirror_mode": {
    "name": "ipython",
    "version": 2
   },
   "file_extension": ".py",
   "mimetype": "text/x-python",
   "name": "python",
   "nbconvert_exporter": "python",
   "pygments_lexer": "ipython2",
   "version": "2.7.6"
  }
 },
 "nbformat": 4,
 "nbformat_minor": 5
}
