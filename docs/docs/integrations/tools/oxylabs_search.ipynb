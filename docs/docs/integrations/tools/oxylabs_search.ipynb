{
 "cells": [
  {
   "metadata": {},
   "cell_type": "markdown",
   "source": "# Oxylabs Search\n",
   "id": "3d5f69fd9e33e94b"
  },
  {
   "metadata": {},
   "cell_type": "markdown",
   "source": "> [Oxylabs Search](https://github.com/oxylabs/oxylabs-sdk-python) TODO: Desciption \n",
   "id": "6e47e671c4f74ce"
  },
  {
   "metadata": {},
   "cell_type": "markdown",
   "source": [
    "## Setup\n",
    "Following the [instruction](https://developers.oxylabs.io/scraper-apis/web-scraper-api/google#getting-started) TODO: Register instructions\n",
    "\n",
    "The integration lives in the `langchain-community` package."
   ],
   "id": "82bbaa87ac460aa5"
  },
  {
   "metadata": {},
   "cell_type": "code",
   "source": "# %pip install -U langchain-community",
   "id": "45725b32dba053a4",
   "outputs": [],
   "execution_count": null
  },
  {
   "metadata": {
    "ExecuteTime": {
     "end_time": "2024-10-29T11:57:21.718731Z",
     "start_time": "2024-10-29T11:57:01.542161Z"
    }
   },
   "cell_type": "code",
   "source": [
    "import getpass\n",
    "import os\n",
    "from pprint import pprint\n",
    "\n",
    "os.environ[\"OXYLABS_USERNAME\"] = getpass.getpass()\n",
    "os.environ[\"OXYLABS_PASSWORD\"] = getpass.getpass()"
   ],
   "id": "1e1d19549dd4e0c3",
   "outputs": [],
   "execution_count": 1
  },
  {
   "metadata": {},
   "cell_type": "code",
   "source": "from langchain_community.utilities import OxylabsSearchAPIWrapper\n",
   "id": "e889620c5268d8ec",
   "outputs": [],
   "execution_count": null
  },
  {
   "metadata": {},
   "cell_type": "code",
   "source": "search = OxylabsSearchAPIWrapper()\n",
   "id": "20ab7c1c823c05e7",
   "outputs": [],
   "execution_count": null
  },
  {
   "metadata": {},
   "cell_type": "code",
   "source": "pprint(search.run(\"python\"), indent=4)",
   "id": "b2658ee89b0cbb38",
   "outputs": [],
   "execution_count": null
  },
  {
   "metadata": {},
   "cell_type": "markdown",
   "source": [
    "## Number of results\n",
    "You can use parameters \"start_page\",  \"pages\" and \"limit\" to set the number of results"
   ],
   "id": "55b0e63df6555752"
  },
  {
   "metadata": {},
   "cell_type": "code",
   "source": [
    "search = OxylabsSearchAPIWrapper(\n",
    "    params={\n",
    "        \"start_page\": 1,\n",
    "        \"pages\": 5,\n",
    "        \"limit\": 30\n",
    "    }\n",
    ")\n"
   ],
   "id": "391f6780098fea6c",
   "outputs": [],
   "execution_count": null
  },
  {
   "metadata": {},
   "cell_type": "code",
   "source": "pprint(search.run(\"python\"), indent=4)",
   "id": "47bab89af8270448",
   "outputs": [],
   "execution_count": null
  },
  {
   "metadata": {},
   "cell_type": "markdown",
   "source": "## Metadata Results",
   "id": "6e584f4135e69d76"
  },
  {
   "metadata": {},
   "cell_type": "code",
   "source": "search = OxylabsSearchAPIWrapper()\n",
   "id": "e9805896a480b5d2",
   "outputs": [],
   "execution_count": null
  },
  {
   "metadata": {},
   "cell_type": "code",
   "source": "search.results(\"apples\")\n",
   "id": "24cc3aeab4fb1c2b",
   "outputs": [],
   "execution_count": null
  },
  {
   "metadata": {},
   "cell_type": "code",
   "source": "## Tool Usage",
   "id": "de06d27ca872c65d",
   "outputs": [],
   "execution_count": null
  },
  {
   "metadata": {
    "ExecuteTime": {
     "end_time": "2024-10-29T11:59:59.025088Z",
     "start_time": "2024-10-29T11:59:58.993464Z"
    }
   },
   "cell_type": "code",
   "source": [
    "import os\n",
    "\n",
    "from langchain_community.tools.oxylabs_search import OxylabsSearchResults, OxylabsSearchRun\n",
    "from langchain_community.utilities import OxylabsSearchAPIWrapper\n",
    "\n",
    "api_wrapper = OxylabsSearchAPIWrapper()\n"
   ],
   "id": "a9230c57144cd15d",
   "outputs": [],
   "execution_count": 4
  },
  {
   "metadata": {},
   "cell_type": "code",
   "source": [
    "tool_results = OxylabsSearchResults(wrapper=api_wrapper)\n",
    "tool_results"
   ],
   "id": "57a786b837945d57",
   "outputs": [],
   "execution_count": null
  },
  {
   "metadata": {},
   "cell_type": "code",
   "source": [
    "tool_run = OxylabsSearchRun(wrapper=api_wrapper)\n",
    "tool_run"
   ],
   "id": "9bc1106aba801ec5",
   "outputs": [],
   "execution_count": null
  },
  {
   "metadata": {},
   "cell_type": "code",
   "source": [
    "import json\n",
    "\n",
    "# .invoke wraps utility.results\n",
    "response_results = tool_results.invoke(\"What is the weather in Shanghai?\")\n",
    "response_results = json.loads(response_results)\n",
    "for item in response_results:\n",
    "    print(item)"
   ],
   "id": "1b903fb2f8272df2",
   "outputs": [],
   "execution_count": null
  },
  {
   "metadata": {},
   "cell_type": "code",
   "source": [
    "# .invoke wraps utility.results\n",
    "response_run = tool_run.invoke(\"What is the weather in Shanghai?\")\n",
    "\n",
    "pprint(response_run)"
   ],
   "id": "825a0798cb5be58d",
   "outputs": [],
   "execution_count": null
  },
  {
   "metadata": {},
   "cell_type": "markdown",
   "source": "## Chaining\n",
   "id": "8cb0ba7b3872e11"
  },
  {
   "metadata": {},
   "cell_type": "code",
   "source": [
    "# Install the required libraries\n",
    "%pip install --upgrade --quiet langchain langchain-openai langchainhub langchain-community"
   ],
   "id": "a6f23e65092e8d27",
   "outputs": [],
   "execution_count": null
  },
  {
   "metadata": {
    "ExecuteTime": {
     "end_time": "2024-10-29T12:01:00.557725Z",
     "start_time": "2024-10-29T12:00:05.674979Z"
    }
   },
   "cell_type": "code",
   "source": [
    "# Import necessary modules\n",
    "import getpass\n",
    "import os\n",
    "from langchain import hub\n",
    "from langchain.agents import AgentExecutor, create_tool_calling_agent\n",
    "from langchain_openai import ChatOpenAI  # Use OpenAIChat instead of AzureChatOpenAI\n",
    "\n",
    "# Set up OpenAI API credentials\n",
    "os.environ[\"OPENAI_API_KEY\"] = getpass.getpass(\"Enter your OpenAI API key: \")\n",
    "\n",
    "# Define assistant instructions and pull a base prompt template\n",
    "instructions = \"\"\"You are an assistant.\"\"\"\n",
    "base_prompt = hub.pull(\"langchain-ai/openai-functions-template\")\n",
    "prompt = base_prompt.partial(instructions=instructions)\n",
    "\n",
    "# Initialize OpenAI chat model\n",
    "llm = ChatOpenAI(\n",
    "    openai_api_key=os.environ[\"OPENAI_API_KEY\"]\n",
    ")\n",
    "\n",
    "# Define tools and agent setup\n",
    "tool = OxylabsSearchRun(wrapper=api_wrapper)\n",
    "tools = [tool]\n",
    "agent = create_tool_calling_agent(llm, tools, prompt)\n",
    "\n",
    "# Set up and invoke the agent executor\n",
    "agent_executor = AgentExecutor(\n",
    "    agent=agent,\n",
    "    tools=tools,\n",
    "    verbose=True,\n",
    ")\n",
    "agent_executor.invoke({\"input\": \"What happened in the latest Burning Man floods?\"})"
   ],
   "id": "21078a0c265759ff",
   "outputs": [
    {
     "name": "stderr",
     "output_type": "stream",
     "text": [
      "/home/karolisk/workspace/langchain/.venv/lib/python3.10/site-packages/langsmith/client.py:351: LangSmithMissingAPIKeyWarning: API key must be provided when using hosted LangSmith API\n",
      "  warnings.warn(\n"
     ]
    },
    {
     "name": "stdout",
     "output_type": "stream",
     "text": [
      "\n",
      "\n",
      "\u001B[1m> Entering new AgentExecutor chain...\u001B[0m\n"
     ]
    },
    {
     "name": "stderr",
     "output_type": "stream",
     "text": [
      "INFO:httpx:HTTP Request: POST https://api.openai.com/v1/chat/completions \"HTTP/1.1 200 OK\"\n"
     ]
    },
    {
     "name": "stdout",
     "output_type": "stream",
     "text": [
      "\u001B[32;1m\u001B[1;3m\n",
      "Invoking: `oxylabs_search` with `{'query': 'latest Burning Man floods news'}`\n",
      "\n",
      "\n",
      "\u001B[0m\u001B[36;1m\u001B[1;3m  ORGANIC RESULTS ITEMS: \n",
      "    ORGANIC-ITEM-1: \n",
      "    POS: 1\n",
      "    URL: https://abcnews.go.com/US/burning-man-flooding-happened-stranded-festivalgoers/story?id=102908331\n",
      "    DESC: Sep 4, 2023 — Tens of thousands of Burning Man attendees are now able to leave the festival after a downpour and massive flooding left them stranded over the weekend.\n",
      "    TITLE: Burning Man flooding: What happened to stranded ...\n",
      "    URL_SHOWN: https://abcnews.go.com› story\n",
      "    POS_OVERALL: 1\n",
      "    FAVICON_TEXT: ABC News - Breaking News, Latest News and Videos\n",
      "    ORGANIC-ITEM-2: \n",
      "    POS: 2\n",
      "    URL: https://www.foxweather.com/weather-news/burning-man-festivalgoers-experience-travel-issues-black-rock-city-nevada-rain\n",
      "    DESC: Aug 24, 2024 — Monsoon rains on Friday and over the weekend caused flash flooding at Burning Man, turning the usually dry, desert landscape of the festival ...\n",
      "    TITLE: Travel to Burning Man delayed due to thunderstorms\n",
      "    URL_SHOWN: https://www.foxweather.com› weather-news › burning...\n",
      "    POS_OVERALL: 2\n",
      "    FAVICON_TEXT: FOX Weather\n",
      "    ORGANIC-ITEM-3: \n",
      "    POS: 3\n",
      "    URL: https://www.outsideonline.com/outdoor-adventure/exploration-survival/burning-man-2023-flooding-rain/\n",
      "    DESC: Sep 6, 2023 — When storms left Burning Man 2023 a muddy mess, attendees plotted their way out.\n",
      "    TITLE: How One Man Escaped From Burning Man 2023's Floods\n",
      "    URL_SHOWN: https://www.outsideonline.com› exploration-survival\n",
      "    POS_OVERALL: 3\n",
      "    FAVICON_TEXT: Outside Magazine\n",
      "    ORGANIC-ITEM-4: \n",
      "    POS: 4\n",
      "    URL: https://www.nbcnews.com/news/us-news/live-blog/live-updates-burning-man-flooding-keeps-thousands-stranded-nevada-site-rcna103193\n",
      "    DESC: Sep 4, 2023 — Burning Man flooding keeps thousands stranded at Nevada site as authorities investigate 1 death. Attendees at the countercultural music and arts ...\n",
      "    TITLE: Burning Man flooding keeps thousands stranded at ...\n",
      "    URL_SHOWN: https://www.nbcnews.com› news › us-news › live-blog\n",
      "    POS_OVERALL: 5\n",
      "    FAVICON_TEXT: NBC News\n",
      "\n",
      "  ORGANIC VIDEOS ITEMS: \n",
      "    ORGANIC_VIDEOS-ITEM-1: \n",
      "    POS: 1\n",
      "    URL: https://www.youtube.com/watch?v=a1xBz6g1Kc8\n",
      "    DESC: Thousands leaving Burning Man festival after flooding from heavy rain Thousands of people are leaving Burning Man after torrential rain ...\n",
      "    TITLE: Thousands leaving Burning Man festival after flooding from ...\n",
      "    POS_OVERALL: 4\n",
      "\n",
      "  SEARCH INFORMATION: \n",
      "  QUERY: latest Burning Man floods news\n",
      "  GEO_LOCATION: United States\n",
      "  SHOWING_RESULTS_FOR: latest Burning Man floods news\n",
      "  TOTAL_RESULTS_COUNT: 30000000\n",
      "\n",
      "  RELATED SEARCHES: \n",
      "  POS_OVERALL: 6\n",
      "  RELATED_SEARCHES ITEMS: \n",
      "    RELATED_SEARCHES-ITEM-1: Latest burning man floods news today\n",
      "    RELATED_SEARCHES-ITEM-2: Latest burning man floods news nevada\n",
      "    RELATED_SEARCHES-ITEM-3: Burning Man 2023 Flood pictures\n",
      "    RELATED_SEARCHES-ITEM-4: Burning Man 2023 flood death\n",
      "    RELATED_SEARCHES-ITEM-5: Burning Man flood 2024\n",
      "    RELATED_SEARCHES-ITEM-6: Burning Man flood death\n",
      "    RELATED_SEARCHES-ITEM-7: Burning Man 2024\n",
      "    RELATED_SEARCHES-ITEM-8: Shiftpod Burning Man\u001B[0m"
     ]
    },
    {
     "name": "stderr",
     "output_type": "stream",
     "text": [
      "INFO:httpx:HTTP Request: POST https://api.openai.com/v1/chat/completions \"HTTP/1.1 200 OK\"\n"
     ]
    },
    {
     "name": "stdout",
     "output_type": "stream",
     "text": [
      "\u001B[32;1m\u001B[1;3mIn the latest Burning Man floods, tens of thousands of attendees were stranded at the festival due to a downpour and massive flooding. The flooding occurred over the weekend, causing travel delays and challenges for festival-goers. Authorities were investigating one death related to the flooding. Attendees at the countercultural music and arts event faced difficulties due to the unexpected weather conditions. If you would like more details or specific information, feel free to ask.\u001B[0m\n",
      "\n",
      "\u001B[1m> Finished chain.\u001B[0m\n"
     ]
    },
    {
     "data": {
      "text/plain": [
       "{'input': 'What happened in the latest Burning Man floods?',\n",
       " 'output': 'In the latest Burning Man floods, tens of thousands of attendees were stranded at the festival due to a downpour and massive flooding. The flooding occurred over the weekend, causing travel delays and challenges for festival-goers. Authorities were investigating one death related to the flooding. Attendees at the countercultural music and arts event faced difficulties due to the unexpected weather conditions. If you would like more details or specific information, feel free to ask.'}"
      ]
     },
     "execution_count": 5,
     "metadata": {},
     "output_type": "execute_result"
    }
   ],
   "execution_count": 5
  },
  {
   "metadata": {
    "ExecuteTime": {
     "end_time": "2024-10-29T12:52:25.173690Z",
     "start_time": "2024-10-29T12:51:58.603427Z"
    }
   },
   "cell_type": "code",
   "source": "agent_executor.invoke({\"input\": \"Who won latest 2024 Lithuanian elections and why, please make an essay from search results.\"})",
   "id": "be62abbade21333f",
   "outputs": [
    {
     "name": "stdout",
     "output_type": "stream",
     "text": [
      "\n",
      "\n",
      "\u001B[1m> Entering new AgentExecutor chain...\u001B[0m\n"
     ]
    },
    {
     "name": "stderr",
     "output_type": "stream",
     "text": [
      "INFO:httpx:HTTP Request: POST https://api.openai.com/v1/chat/completions \"HTTP/1.1 200 OK\"\n"
     ]
    },
    {
     "name": "stdout",
     "output_type": "stream",
     "text": [
      "\u001B[32;1m\u001B[1;3m\n",
      "Invoking: `oxylabs_search` with `{'query': '2024 Lithuanian elections winner'}`\n",
      "\n",
      "\n",
      "\u001B[0m\u001B[36;1m\u001B[1;3m  ORGANIC RESULTS ITEMS: \n",
      "    ORGANIC-ITEM-1: \n",
      "    POS: 1\n",
      "    URL: https://apnews.com/article/lithuania-parliamentary-election-new-government-blinkeviit-e7f3344f8e15c07f9a0d46d7f4cb9096\n",
      "    DESC: 11 hours ago — Lithuania's center-left opposition parties celebrated victory after prevailing over the center-right ruling coalition in the final round of ...\n",
      "    TITLE: Social Democrats win Lithuania's election, overcoming ...\n",
      "    URL_SHOWN: https://apnews.com› article\n",
      "    POS_OVERALL: 2\n",
      "    FAVICON_TEXT: AP News\n",
      "    ORGANIC-ITEM-2: \n",
      "    POS: 2\n",
      "    URL: https://www.reuters.com/world/europe/lithuania-opposition-seeks-cement-election-win-run-off-votes-2024-10-27/\n",
      "    DESC: 1 day ago — The opposition Social Democrats claimed victory in Lithuania's parliamentary election on Sunday, which was dominated by frustration with the ...\n",
      "    TITLE: Lithuania leftist opposition win election, eyes coalition\n",
      "    URL_SHOWN: https://www.reuters.com› world › europe › lithuania-op...\n",
      "    POS_OVERALL: 3\n",
      "    FAVICON_TEXT: Reuters\n",
      "    ORGANIC-ITEM-3: \n",
      "    POS: 3\n",
      "    URL: https://www.theguardian.com/world/2024/oct/28/lithuania-social-democratic-party-election-winner-bolster-defence-russia-threat\n",
      "    DESC: 20 hours ago — Social Democrat leader says spending should be no less than party's election manifesto pledge of 3.5% of GDP.\n",
      "    TITLE: Lithuanian election winner promises to bolster defence ...\n",
      "    URL_SHOWN: https://www.theguardian.com› world › 2024 › oct › lith...\n",
      "    POS_OVERALL: 4\n",
      "    FAVICON_TEXT: The Guardian\n",
      "    ORGANIC-ITEM-4: \n",
      "    POS: 4\n",
      "    URL: https://en.wikipedia.org/wiki/2024_Lithuanian_parliamentary_election\n",
      "    DESC: 10 hours ago — Parliamentary elections were held in Lithuania on 13 October, with a second round to be held on 27 October 2024. 2024 Lithuanian parliamentary election ...\n",
      "    TITLE: 2024 Lithuanian parliamentary election\n",
      "    SITELINKS: \n",
      "      SITELINKS: \n",
      "      INLINE ITEMS: \n",
      "        INLINE-ITEM-1: \n",
      "        URL: https://en.wikipedia.org/wiki/Lithuanian_Christian_Democracy_Party\n",
      "        TITLE: Lithuanian Christian...\n",
      "        INLINE-ITEM-2: \n",
      "        URL: https://en.wikipedia.org/wiki/Lithuanian_Regions_Party\n",
      "        TITLE: Lithuanian Regions Party\n",
      "        INLINE-ITEM-3: \n",
      "        URL: https://en.wikipedia.org/wiki/2024_European_Parliament_election_in_Lithuania\n",
      "        TITLE: 2024 European Parliament...\n",
      "    URL_SHOWN: https://en.wikipedia.org› wiki › 2024_Lithuanian_parlia...\n",
      "    POS_OVERALL: 5\n",
      "    FAVICON_TEXT: Wikipedia\n",
      "\n",
      "  TOP STORIES: \n",
      "  ITEMS ITEMS: \n",
      "    ITEMS-ITEM-1: \n",
      "    POS: 1\n",
      "    URL: https://www.dw.com/en/lithuania-opposition-social-democrats-win-election/a-70611400\n",
      "    TITLE: Lithuania: Opposition Social Democrats win election\n",
      "    SOURCE: DW\n",
      "    TIMEFRAME: 15 hours ago\n",
      "    ITEMS-ITEM-2: \n",
      "    POS: 2\n",
      "    URL: https://apnews.com/article/lithuania-parliamentary-election-new-government-blinkeviit-e7f3344f8e15c07f9a0d46d7f4cb9096\n",
      "    TITLE: Social Democrats win Lithuania’s election, overcoming center-right \n",
      "government\n",
      "    SOURCE: AP News\n",
      "    TIMEFRAME: 11 hours ago\n",
      "    ITEMS-ITEM-3: \n",
      "    POS: 3\n",
      "    URL: https://www.theguardian.com/world/2024/oct/28/lithuania-social-democratic-party-election-winner-bolster-defence-russia-threat\n",
      "    TITLE: Lithuanian election winner promises to bolster defence to counter Russia \n",
      "threat\n",
      "    SOURCE: The Guardian\n",
      "    TIMEFRAME: 20 hours ago\n",
      "    ITEMS-ITEM-4: \n",
      "    POS: 4\n",
      "    URL: https://www.reuters.com/world/europe/lithuania-opposition-seeks-cement-election-win-run-off-votes-2024-10-27/\n",
      "    TITLE: Lithuania leftist opposition win election, eyes coalition\n",
      "    SOURCE: Reuters\n",
      "    TIMEFRAME: 1 day ago\n",
      "  POS_OVERALL: 1\n",
      "\n",
      "  SEARCH INFORMATION: \n",
      "  QUERY: 2024 Lithuanian elections winner\n",
      "  GEO_LOCATION: United States\n",
      "  SHOWING_RESULTS_FOR: 2024 Lithuanian elections winner\n",
      "  TOTAL_RESULTS_COUNT: 5890000\u001B[0m"
     ]
    },
    {
     "name": "stderr",
     "output_type": "stream",
     "text": [
      "INFO:httpx:HTTP Request: POST https://api.openai.com/v1/chat/completions \"HTTP/1.1 200 OK\"\n"
     ]
    },
    {
     "name": "stdout",
     "output_type": "stream",
     "text": [
      "\u001B[32;1m\u001B[1;3mIn the latest 2024 Lithuanian elections, the center-left opposition parties, specifically the Social Democrats, emerged victorious over the center-right ruling coalition. The victory was celebrated as the Social Democrats prevailed in the final round of the parliamentary election. The election results were dominated by frustration with the existing government, leading to a significant shift in power.\n",
      "\n",
      "The Social Democrats claimed victory in Lithuania's parliamentary election, as reported by reputable sources such as [AP News](https://apnews.com/article/lithuania-parliamentary-election-new-government-blinkeviit-e7f3344f8e15c07f9a0d46d7f4cb9096), [Reuters](https://www.reuters.com/world/europe/lithuania-opposition-seeks-cement-election-win-run-off-votes-2024-10-27/), and [The Guardian](https://www.theguardian.com/world/2024/oct/28/lithuania-social-democratic-party-election-winner-bolster-defence-russia-threat). The election outcome signifies a shift in the political landscape of Lithuania, with the opposition now eyeing coalition formations to govern the country.\n",
      "\n",
      "One of the key reasons for the Social Democrats' victory could be attributed to their promises to bolster defense capabilities to counter potential threats, particularly from Russia. This commitment resonated with the voters and showcased a proactive approach towards national security.\n",
      "\n",
      "Overall, the 2024 Lithuanian elections marked a significant win for the Social Democrats, heralding a new era in Lithuanian politics with a focus on addressing pressing issues and strengthening the country's defense posture.\u001B[0m\n",
      "\n",
      "\u001B[1m> Finished chain.\u001B[0m\n"
     ]
    },
    {
     "data": {
      "text/plain": [
       "{'input': 'Who won latest 2024 Lithuanian elections and why, please make an essay from search results.',\n",
       " 'output': \"In the latest 2024 Lithuanian elections, the center-left opposition parties, specifically the Social Democrats, emerged victorious over the center-right ruling coalition. The victory was celebrated as the Social Democrats prevailed in the final round of the parliamentary election. The election results were dominated by frustration with the existing government, leading to a significant shift in power.\\n\\nThe Social Democrats claimed victory in Lithuania's parliamentary election, as reported by reputable sources such as [AP News](https://apnews.com/article/lithuania-parliamentary-election-new-government-blinkeviit-e7f3344f8e15c07f9a0d46d7f4cb9096), [Reuters](https://www.reuters.com/world/europe/lithuania-opposition-seeks-cement-election-win-run-off-votes-2024-10-27/), and [The Guardian](https://www.theguardian.com/world/2024/oct/28/lithuania-social-democratic-party-election-winner-bolster-defence-russia-threat). The election outcome signifies a shift in the political landscape of Lithuania, with the opposition now eyeing coalition formations to govern the country.\\n\\nOne of the key reasons for the Social Democrats' victory could be attributed to their promises to bolster defense capabilities to counter potential threats, particularly from Russia. This commitment resonated with the voters and showcased a proactive approach towards national security.\\n\\nOverall, the 2024 Lithuanian elections marked a significant win for the Social Democrats, heralding a new era in Lithuanian politics with a focus on addressing pressing issues and strengthening the country's defense posture.\"}"
      ]
     },
     "execution_count": 8,
     "metadata": {},
     "output_type": "execute_result"
    }
   ],
   "execution_count": 8
  },
  {
   "metadata": {
    "ExecuteTime": {
     "end_time": "2024-10-29T12:48:52.182231Z",
     "start_time": "2024-10-29T12:48:28.738265Z"
    }
   },
   "cell_type": "code",
   "source": "agent_executor.invoke({\"input\": \"What is the most profitable company in lithuania in 2024?\"})",
   "id": "41870f403b9a7a8d",
   "outputs": [
    {
     "name": "stdout",
     "output_type": "stream",
     "text": [
      "\n",
      "\n",
      "\u001B[1m> Entering new AgentExecutor chain...\u001B[0m\n"
     ]
    },
    {
     "name": "stderr",
     "output_type": "stream",
     "text": [
      "INFO:httpx:HTTP Request: POST https://api.openai.com/v1/chat/completions \"HTTP/1.1 200 OK\"\n"
     ]
    },
    {
     "name": "stdout",
     "output_type": "stream",
     "text": [
      "\u001B[32;1m\u001B[1;3m\n",
      "Invoking: `oxylabs_search` with `{'query': 'most profitable company in Lithuania 2024'}`\n",
      "\n",
      "\n",
      "\u001B[0m\u001B[36;1m\u001B[1;3m  ORGANIC RESULTS ITEMS: \n",
      "    ORGANIC-ITEM-1: \n",
      "    POS: 1\n",
      "    URL: https://ceoworld.biz/2024/02/19/lithuanias-largest-companies-by-market-capitalization-2024/\n",
      "    DESC: Feb 19, 2024 — As of October 24, 2024, AB IGNITIS GRUPE is the most valuable company in Lithuania, with a market cap of $1.51 billion. Following it are TELIA ...\n",
      "    TITLE: Lithuania's Largest Companies by market capitalization, ...\n",
      "    URL_SHOWN: https://ceoworld.biz › Latest › Banking and Finance\n",
      "    POS_OVERALL: 1\n",
      "    FAVICON_TEXT: CEOWORLD magazine\n",
      "    ORGANIC-ITEM-2: \n",
      "    POS: 2\n",
      "    URL: https://www.hithorizons.com/eu/analyses/country-statistics/lithuania\n",
      "    DESC: Lithuania: TOP 10 Companies with Highest Sales 194,288 registered companies ; 1. ORLEN LIETUVA AB € 4.264B ; 2. MAXIMA LT UAB € 1.985B ; 3. THERMO FISHER ...\n",
      "    TITLE: Industry Breakdown of Companies in Lithuania\n",
      "    URL_SHOWN: https://www.hithorizons.com › analyses › country-statistics\n",
      "    POS_OVERALL: 2\n",
      "    FAVICON_TEXT: HitHorizons.com\n",
      "    ORGANIC-ITEM-3: \n",
      "    POS: 3\n",
      "    URL: https://lithuania.lt/news/business-and-innovations-in-lithuania/which-startups-will-be-making-waves-in-lithuania-in-2024/\n",
      "    DESC: Jan 23, 2024 — Which startups will be making waves in Lithuania in 2024? · 1. Cast AI: · 2. Amlyze: · 3. Vinted Go: · 4. PV Case: · 5. Atrandi Biosciences: · 6.\n",
      "    TITLE: Which startups will be making waves in Lithuania in 2024?\n",
      "    URL_SHOWN: https://lithuania.lt › News\n",
      "    POS_OVERALL: 3\n",
      "    FAVICON_TEXT: lithuania.lt\n",
      "    ORGANIC-ITEM-4: \n",
      "    POS: 4\n",
      "    URL: https://www.f6s.com/companies/lithuania/lo\n",
      "    DESC: Detailed info and reviews on 100 top companies and startups in Lithuania in 2024. Get the latest updates on their products, jobs, funding, investors, ...\n",
      "    TITLE: 100 top Companies and Startups in Lithuania in October ...\n",
      "    URL_SHOWN: https://www.f6s.com › companies › lithuania\n",
      "    POS_OVERALL: 4\n",
      "    FAVICON_TEXT: F6S\n",
      "    ORGANIC-ITEM-5: \n",
      "    POS: 5\n",
      "    URL: https://bebeez.eu/2024/04/02/these-8-startups-secured-the-largest-lithuanian-funding-rounds-in-q1-2024-some-are-now-hiring/\n",
      "    DESC: Apr 2, 2024 — These 8 startups secured the largest Lithuanian funding rounds in Q1 2024; some are now hiring. Silicon Canals bySilicon Canals · April 2, 2024.\n",
      "    TITLE: These 8 startups secured the largest Lithuanian funding ...\n",
      "    URL_SHOWN: https://bebeez.eu › 2024/04/02 › these-8-startups-secure...\n",
      "    POS_OVERALL: 5\n",
      "    FAVICON_TEXT: BeBeez International\n",
      "\n",
      "  SEARCH INFORMATION: \n",
      "  QUERY: most profitable company in Lithuania 2024\n",
      "  GEO_LOCATION: United States\n",
      "  SHOWING_RESULTS_FOR: most profitable company in Lithuania 2024\n",
      "  TOTAL_RESULTS_COUNT: 64200000\n",
      "\n",
      "  RELATED SEARCHES: \n",
      "  POS_OVERALL: 6\n",
      "  RELATED_SEARCHES ITEMS: \n",
      "    RELATED_SEARCHES-ITEM-1: Top 10 most profitable company in lithuania 2024\n",
      "    RELATED_SEARCHES-ITEM-2: Top 20 most profitable company in lithuania 2024\n",
      "    RELATED_SEARCHES-ITEM-3: Most profitable company in lithuania 2024 by revenue\n",
      "    RELATED_SEARCHES-ITEM-4: International companies in Lithuania\n",
      "    RELATED_SEARCHES-ITEM-5: IT companies in Lithuania\n",
      "    RELATED_SEARCHES-ITEM-6: Best companies to work in Lithuania\n",
      "    RELATED_SEARCHES-ITEM-7: Manufacturing companies in Lithuania\n",
      "    RELATED_SEARCHES-ITEM-8: Famous Lithuanian companies\u001B[0m"
     ]
    },
    {
     "name": "stderr",
     "output_type": "stream",
     "text": [
      "INFO:httpx:HTTP Request: POST https://api.openai.com/v1/chat/completions \"HTTP/1.1 200 OK\"\n"
     ]
    },
    {
     "name": "stdout",
     "output_type": "stream",
     "text": [
      "\u001B[32;1m\u001B[1;3mThe most valuable company in Lithuania in 2024 is AB IGNITIS GRUPE, with a market capitalization of $1.51 billion.\u001B[0m\n",
      "\n",
      "\u001B[1m> Finished chain.\u001B[0m\n"
     ]
    },
    {
     "data": {
      "text/plain": [
       "{'input': 'What is the most profitable company in lithuania in 2024?',\n",
       " 'output': 'The most valuable company in Lithuania in 2024 is AB IGNITIS GRUPE, with a market capitalization of $1.51 billion.'}"
      ]
     },
     "execution_count": 7,
     "metadata": {},
     "output_type": "execute_result"
    }
   ],
   "execution_count": 7
  }
 ],
 "metadata": {
  "kernelspec": {
   "display_name": "Python 3",
   "language": "python",
   "name": "python3"
  },
  "language_info": {
   "codemirror_mode": {
    "name": "ipython",
    "version": 2
   },
   "file_extension": ".py",
   "mimetype": "text/x-python",
   "name": "python",
   "nbconvert_exporter": "python",
   "pygments_lexer": "ipython2",
   "version": "2.7.6"
  }
 },
 "nbformat": 4,
 "nbformat_minor": 5
}
